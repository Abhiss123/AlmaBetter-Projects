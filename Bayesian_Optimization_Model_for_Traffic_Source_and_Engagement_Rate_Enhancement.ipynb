{
  "nbformat": 4,
  "nbformat_minor": 0,
  "metadata": {
    "colab": {
      "provenance": [],
      "authorship_tag": "ABX9TyPH4uHarHqQ3r2rh67omsRs",
      "include_colab_link": true
    },
    "kernelspec": {
      "name": "python3",
      "display_name": "Python 3"
    },
    "language_info": {
      "name": "python"
    }
  },
  "cells": [
    {
      "cell_type": "markdown",
      "metadata": {
        "id": "view-in-github",
        "colab_type": "text"
      },
      "source": [
        "<a href=\"https://colab.research.google.com/github/Abhiss123/AlmaBetter-Projects/blob/main/Bayesian_Optimization_Model_for_Traffic_Source_and_Engagement_Rate_Enhancement.ipynb\" target=\"_parent\"><img src=\"https://colab.research.google.com/assets/colab-badge.svg\" alt=\"Open In Colab\"/></a>"
      ]
    },
    {
      "cell_type": "markdown",
      "source": [
        "# Project Name : Bayesian Optimization Model for Traffic Source and Engagement Rate Enhancement\n",
        "\n",
        "**Purpose :**\n",
        "\n",
        "* The purpose of this project is to **optimize key website metrics**, such as **traffic sources (Organic Search, Direct, Referral) and user engagement metrics (Engaged Sessions, Engagement Rate),** using **Bayesian Optimization.** The ultimate goal is to **maximize user engagement** and improve the overall performance of the website. By utilizing **Bayesian Optimization**, this project helps identify the best combination of **traffic sources and engagement-related variables to drive better business outcomes**, such as higher conversions or increased user retention.\n",
        "\n",
        "In simple terms, the project aims to use data and optimization techniques to answer questions like:\n",
        "\n",
        "* How should a website owner distribute focus between **different traffic sources** (Organic, Direct, Referral) to maximize engagement?\n",
        "\n",
        "* **What page-level features** (like engagement time or actions per session) are most important to increase user activity on the site?"
      ],
      "metadata": {
        "id": "pqcAzuo8vZOu"
      }
    },
    {
      "cell_type": "markdown",
      "source": [
        "# What is Bayesian Optimization?\n",
        "\n",
        "*  **Bayesian Optimization** is a method used to find the best solution for complex problems where **testing all possibilities** would be **time-consuming or expensive.** It works by **predicting how different solutions will perform and only testing the most promising ones**. Think of it like an **experienced guesser who learns from past tries and gets better with each attempt.** It’s particularly helpful when you're dealing with functions that are costly to evaluate, such as machine learning models or SEO strategies.\n",
        "\n",
        "# How Does It Work?\n",
        "\n",
        "*  **Starts with a guess:** First, it makes an educated guess about where to find the best solution.\n",
        "\n",
        "*  **Learns from feedback:** It then tries a solution, looks at the result, and adjusts its guesses based on how well it worked.\n",
        "\n",
        "*  **Improves guesses over time:** With each step, it uses what it has learned to guess better, eventually honing in on the best solution much more efficiently than randomly trying everything.\n",
        "\n",
        "# How is It Useful for SEO (Search Engine Optimization)?\n",
        "\n",
        "In SEO, many factors affect your **website’s ranking—like keyword optimization, content, load speed,** etc. Testing all combinations manually would take forever. **Bayesian Optimization helps by automatically suggesting changes (like which keywords or content structure to tweak)** that are most likely to improve your ranking based on past results. It learns which strategies work best as it goes.\n",
        "\n"
      ],
      "metadata": {
        "id": "ZgX1NrfZxIlR"
      }
    },
    {
      "cell_type": "markdown",
      "source": [
        "# Real-life Implementation Example:\n",
        "\n",
        "* **SEO Model Tuning:** Let’s say you have a website and want to improve its ranking. Bayesian Optimization can help adjust factors like keyword placement, content structure, and backlinks to give the best possible ranking boost based on data from previous tests.\n",
        "\n",
        "*  **Hyperparameter Tuning in Machine Learning:** When building AI models, you need to tweak many settings (called hyperparameters) for the model to perform well. Bayesian Optimization helps to quickly find the best settings without testing every possible combination, saving time and computational resources.\n",
        "\n",
        "*  **A/B Testing:** You could use it in marketing to optimize ad strategies, testing different ad placements, headlines, or images to see which combination gets the most clicks or conversions.\n",
        "\n"
      ],
      "metadata": {
        "id": "sc8NMpB4yxTB"
      }
    },
    {
      "cell_type": "markdown",
      "source": [
        "# What Data Do We Need for SEO Tuning?\n",
        "\n",
        "For **Bayesian Optimization** to improve SEO strategy, it requires key performance indicators (KPIs) about your website. Here’s a breakdown of the kind of data you’ll need in CSV format:\n",
        "\n",
        "*  **Website Traffic:** This includes the number of visitors, sessions, and page views. Traffic data helps the model understand which pages get more views and which strategies are working.\n",
        "\n",
        "*  **Keywords:** The keywords you are currently ranking for, and their performance (clicks, impressions, position in search results).\n",
        "\n",
        "*  **Page Load Time:** Slow page speeds negatively affect SEO. The data should include how fast different pages load.\n",
        "\n",
        "*  **User Engagement Metrics:** Bounce rates, average session duration, and pages per session. These metrics indicate how users interact with your content.\n",
        "\n",
        "*  **Rankings:** Historical rankings for your web pages based on different keywords, and how they have changed over time.\n",
        "\n"
      ],
      "metadata": {
        "id": "3GD66h8hzM20"
      }
    },
    {
      "cell_type": "code",
      "source": [
        "# Step 1: Load the Dataset\n",
        "# We're loading the dataset from the given file path.\n",
        "# This dataset contains traffic source data and key metrics like sessions and engagement rate.\n",
        "data_path = '/content/drive/MyDrive/Dataset For Bayesian Model/data-export (1).csv'\n",
        "df = pd.read_csv(data_path)  # Read the CSV file into a DataFrame for easy manipulation\n",
        "\n",
        "# Step 2: Explore the Dataset\n",
        "# It's a good idea to check the first few rows of the dataset to understand its structure.\n",
        "# This helps ensure that we have loaded the data correctly and understand what columns are available.\n",
        "print(df.head())  # Display the first 5 rows of the dataset to get a sense of its contents"
      ],
      "metadata": {
        "colab": {
          "base_uri": "https://localhost:8080/"
        },
        "id": "VDx5AB2P1ezt",
        "outputId": "aadebe1b-38c8-469b-9320-ee60458ed27d"
      },
      "execution_count": null,
      "outputs": [
        {
          "output_type": "stream",
          "name": "stdout",
          "text": [
            "  Session primary channel group (Default Channel Group)  Sessions  \\\n",
            "0                                     Organic Social            5   \n",
            "1                                     Organic Search          218   \n",
            "2                                      Organic Video            7   \n",
            "3                                             Direct            0   \n",
            "4                                           Referral            0   \n",
            "\n",
            "   Engaged sessions  Engagement rate  Average engagement time per session  \\\n",
            "0                 3         0.600000                           124.000000   \n",
            "1                99         0.454128                            37.509174   \n",
            "2                 2         0.285714                            30.000000   \n",
            "3                 0         0.000000                             0.000000   \n",
            "4                 0         0.000000                             0.000000   \n",
            "\n",
            "   Events per session  Event count  Key events  Session key event rate  \\\n",
            "0           20.400000          102           0                       0   \n",
            "1            8.871560         1934           0                       0   \n",
            "2            8.571429           60           0                       0   \n",
            "3            0.000000            0           0                       0   \n",
            "4            0.000000            0           0                       0   \n",
            "\n",
            "   Total revenue  \n",
            "0              0  \n",
            "1              0  \n",
            "2              0  \n",
            "3              0  \n",
            "4              0  \n"
          ]
        }
      ]
    },
    {
      "cell_type": "code",
      "source": [
        "# Step 3: Define the Objective Function\n",
        "# The objective function is what the Bayesian optimizer tries to maximize (or minimize).\n",
        "# Here, we want to maximize the \"Engagement Rate\" based on different traffic sources.\n",
        "# The optimizer will test different combinations of traffic sources to find the best engagement rate.\n",
        "def objective_function(params):\n",
        "    \"\"\"\n",
        "    Objective function for Bayesian Optimization.\n",
        "    This function calculates the engagement rate based on input traffic sources (e.g., Organic, Direct, Referral).\n",
        "    The goal is to maximize the engagement rate by adjusting traffic sources.\n",
        "\n",
        "    Args:\n",
        "    params: A list of traffic source values in the form [Organic_Search, Direct, Referral].\n",
        "\n",
        "    Returns:\n",
        "    - Negative engagement rate (we minimize, so negative turns it into maximization).\n",
        "    \"\"\"\n",
        "    # Unpacking the traffic source values (e.g., Organic Search, Direct, Referral)\n",
        "    Organic_Search, Direct, Referral = params\n",
        "\n",
        "    # We create a simplified engagement rate formula based on the traffic source values.\n",
        "    # In reality, this can be a complex formula, but here we just simulate it for demonstration.\n",
        "    engagement_rate = Organic_Search * 0.5 + Direct * 0.3 + Referral * 0.2\n",
        "\n",
        "    # Return the negative of the engagement rate because gp_minimize minimizes by default.\n",
        "    # To maximize engagement rate, we return it as a negative value.\n",
        "    return -engagement_rate\n",
        "\n"
      ],
      "metadata": {
        "id": "vDpaInvO1vuU"
      },
      "execution_count": null,
      "outputs": []
    },
    {
      "cell_type": "markdown",
      "source": [
        "# Step-by-Step Breakdown of the Objective Function:\n",
        "\n",
        "      def objective_function(params):\n",
        "\n",
        "* **What this does:** This line defines a function called **objective_function**. A function in Python is like a recipe—it performs a set of instructions every time it’s called.\n",
        "\n",
        "* **Why we need this:** This function is the **\"heart\"** of the optimization process because it tells the Bayesian optimizer what we’re trying to achieve. In this case, we want to **maximize the engagement rate** based on how much traffic comes from **Organic Search, Direct, and Referral sources**.\n",
        "\n",
        "*  **Example:** Imagine you have a website, and you want to figure out how to divide your traffic between **search engines (Organic Search), people who directly type your URL (Direct),** and **visitors coming from other websites (Referral)** in order to **maximize the engagement rate.**\n",
        "\n",
        "              # Unpacking the traffic source values (e.g., Organic Search, Direct, Referral)\n",
        "              Organic_Search, Direct, Referral = params\n",
        "\n",
        "**What this does:** This line of code takes the list of traffic source values and separates them into three separate variables: Organic_Search, Direct, and Referral.\n",
        "\n",
        "**Why we need this:** The optimizer will give a list of numbers like **[0.4, 0.3, 0.3]**, representing the proportion of traffic from Organic Search, Direct, and Referral. Unpacking makes it easier to use these values individually.\n",
        "\n",
        "**Example:** Suppose the optimizer tries a combination like **[0.6, 0.2, 0.2].** This means **60% of your traffic is from Organic Search, 20% is from Direct traffic, and 20% is from Referral traffic.** This line of code separates those values so we can use them later in the formula.\n",
        "\n",
        "\n",
        "            # We create a simplified engagement rate formula based on the traffic source values.\n",
        "            # In reality, this can be a complex formula, but here we just simulate it for demonstration.\n",
        "            engagement_rate = Organic_Search * 0.5 + Direct * 0.3 + Referral * 0.2\n",
        "\n",
        "* **What this does:** This line calculates the engagement rate based on the proportions of traffic from different sources. The formula assumes that Organic Search contributes 50% to the engagement rate, Direct traffic contributes 30%, and Referral traffic contributes 20%.\n",
        "\n",
        "* **Why we need this:** The optimizer needs to know how the engagement rate changes when different traffic sources are emphasized. The formula used here is a simplified example. In real-world scenarios, you could have a more complex formula based on actual data.\n",
        "\n",
        "**Example:**\n",
        "\n",
        "If the optimizer tries the combination **[0.6, 0.2, 0.2]:**\n",
        "\n",
        "*  **Organic Search = 0.6 (60%) × 0.5 (50% weight) = 0.3**\n",
        "\n",
        "*  **Direct = 0.2 (20%) × 0.3 (30% weight) = 0.06**\n",
        "\n",
        "*  **Referral = 0.2 (20%) × 0.2 (20% weight) = 0.04**\n",
        "\n",
        "*  **Engagement Rate = 0.3 + 0.06 + 0.04 = 0.4 (40%).**\n",
        "\n",
        "In this example, 60% of your traffic from Organic Search contributes the most to engagement because it has a higher weight (0.5) compared to Direct (0.3) and Referral (0.2).\n",
        "\n",
        "                  # Return the negative of the engagement rate because gp_minimize minimizes by default.\n",
        "                 # To maximize engagement rate, we return it as a negative value.\n",
        "                 return -engagement_rate\n",
        "\n",
        "*  **What this does:** This line returns the negative of the engagement rate. The reason we return a negative value is because the gp_minimize function (which is part of the Bayesian Optimization process) is designed to minimize a function. By returning the negative, we are effectively turning this into a maximization problem.\n",
        "\n",
        "*  **Why we need this:** The optimizer needs to either maximize or minimize a value. In our case, we want to maximize the engagement rate, but since the optimizer minimizes by default, we return the negative value to trick the optimizer into maximizing it.\n",
        "\n",
        "**Example:**\n",
        "\n",
        "*  If the engagement rate is **0.4** (from the earlier calculation), we return **-0.4.**\n",
        "\n",
        "*  The optimizer tries different traffic combinations and selects the one with the **smallest negative value** (which is equivalent to the **largest positive value** for the engagement rate).\n",
        "\n",
        "\n"
      ],
      "metadata": {
        "id": "WgnR7ipr6Bew"
      }
    },
    {
      "cell_type": "code",
      "source": [
        "# Step 4: Define the Search Space\n",
        "# The search space defines the possible range of values that each traffic source can take.\n",
        "# For example, Organic Search traffic can range from 0% (0.0) to 100% (1.0).\n",
        "search_space = [\n",
        "    Real(0, 1, name='Organic_Search'),  # Organic Search traffic percentage (0% to 100%)\n",
        "    Real(0, 1, name='Direct'),  # Direct traffic percentage (0% to 100%)\n",
        "    Real(0, 1, name='Referral')  # Referral traffic percentage (0% to 100%)\n",
        "]\n",
        "search_space"
      ],
      "metadata": {
        "colab": {
          "base_uri": "https://localhost:8080/"
        },
        "id": "Q1Yw6FUg5IHN",
        "outputId": "064db534-4f66-402a-d253-afed0811f00a"
      },
      "execution_count": null,
      "outputs": [
        {
          "output_type": "execute_result",
          "data": {
            "text/plain": [
              "[Real(low=0, high=1, prior='uniform', transform='identity'),\n",
              " Real(low=0, high=1, prior='uniform', transform='identity'),\n",
              " Real(low=0, high=1, prior='uniform', transform='identity')]"
            ]
          },
          "metadata": {},
          "execution_count": 29
        }
      ]
    },
    {
      "cell_type": "code",
      "source": [
        "# Step 5: Run Bayesian Optimization\n",
        "# Here, we use the gp_minimize function to perform Bayesian Optimization.\n",
        "# The optimizer will try different traffic source combinations to find the one that maximizes engagement rate.\n",
        "result = gp_minimize(\n",
        "    func=objective_function,  # The objective function defined earlier\n",
        "    dimensions=search_space,  # The search space for traffic sources\n",
        "    n_calls=20,  # Number of iterations (the number of attempts the optimizer will make)\n",
        "    random_state=42  # Setting a random seed for reproducibility (so results are the same every time)\n",
        ")\n",
        "\n",
        "result"
      ],
      "metadata": {
        "colab": {
          "base_uri": "https://localhost:8080/"
        },
        "id": "8jpw3SLB2cMw",
        "outputId": "8ea8968e-3471-4141-b158-a0ef9788b42c"
      },
      "execution_count": null,
      "outputs": [
        {
          "output_type": "execute_result",
          "data": {
            "text/plain": [
              "          fun: -1.0\n",
              "            x: [1.0, 1.0, 1.0]\n",
              "    func_vals: [-6.092e-01 -4.522e-01 ... -9.399e-01 -3.838e-01]\n",
              "      x_iters: [[0.7965429868602331, 0.18343478986616382, 0.7796910002727695], [0.5968501579464871, 0.44583275285359125, 0.09997491581800291], [0.45924889196586727, 0.3337086111390219, 0.1428668179219408], [0.650888472948853, 0.05641157902710027, 0.7219987722668249], [0.9385527090157504, 0.0007787658410143285, 0.9922115592912177], [0.6174815096277166, 0.611653160488281, 0.007066305219717408], [0.02306242504141576, 0.5247746602583893, 0.3998609717152556], [0.046665663213615434, 0.9737555188414594, 0.23277134043030429], [0.09060643453282081, 0.6183860093330874, 0.38246199126716285], [0.9832308858067884, 0.46676289324798004, 0.8599404067363208], [1.0, 1.0, 1.0], [0.9809144729162718, 0.982133180046618, 0.9865232910203761], [0.9998950412741787, 0.9682004426258182, 0.9875197481375614], [0.9891088918005132, 0.9614538944166797, 0.9925924848213123], [0.09818125324164653, 0.17787314003221025, 0.3844940282830568], [0.9989567869552733, 0.9460448508407522, 0.9860679098921766], [0.1280863793282027, 0.23936711525289617, 0.31685945399147436], [0.21879306746025146, 0.9945616581224296, 0.5062665698248933], [0.9499754290983481, 0.9320798482660968, 0.9262319352142891], [0.15684293973433286, 0.4018452556776738, 0.923906434002252]]\n",
              "       models: [GaussianProcessRegressor(kernel=1**2 * Matern(length_scale=[1, 1, 1], nu=2.5) + WhiteKernel(noise_level=1),\n",
              "                                        n_restarts_optimizer=2, noise='gaussian',\n",
              "                                        normalize_y=True, random_state=1608637542), GaussianProcessRegressor(kernel=1**2 * Matern(length_scale=[1, 1, 1], nu=2.5) + WhiteKernel(noise_level=1),\n",
              "                                        n_restarts_optimizer=2, noise='gaussian',\n",
              "                                        normalize_y=True, random_state=1608637542), GaussianProcessRegressor(kernel=1**2 * Matern(length_scale=[1, 1, 1], nu=2.5) + WhiteKernel(noise_level=1),\n",
              "                                        n_restarts_optimizer=2, noise='gaussian',\n",
              "                                        normalize_y=True, random_state=1608637542), GaussianProcessRegressor(kernel=1**2 * Matern(length_scale=[1, 1, 1], nu=2.5) + WhiteKernel(noise_level=1),\n",
              "                                        n_restarts_optimizer=2, noise='gaussian',\n",
              "                                        normalize_y=True, random_state=1608637542), GaussianProcessRegressor(kernel=1**2 * Matern(length_scale=[1, 1, 1], nu=2.5) + WhiteKernel(noise_level=1),\n",
              "                                        n_restarts_optimizer=2, noise='gaussian',\n",
              "                                        normalize_y=True, random_state=1608637542), GaussianProcessRegressor(kernel=1**2 * Matern(length_scale=[1, 1, 1], nu=2.5) + WhiteKernel(noise_level=1),\n",
              "                                        n_restarts_optimizer=2, noise='gaussian',\n",
              "                                        normalize_y=True, random_state=1608637542), GaussianProcessRegressor(kernel=1**2 * Matern(length_scale=[1, 1, 1], nu=2.5) + WhiteKernel(noise_level=1),\n",
              "                                        n_restarts_optimizer=2, noise='gaussian',\n",
              "                                        normalize_y=True, random_state=1608637542), GaussianProcessRegressor(kernel=1**2 * Matern(length_scale=[1, 1, 1], nu=2.5) + WhiteKernel(noise_level=1),\n",
              "                                        n_restarts_optimizer=2, noise='gaussian',\n",
              "                                        normalize_y=True, random_state=1608637542), GaussianProcessRegressor(kernel=1**2 * Matern(length_scale=[1, 1, 1], nu=2.5) + WhiteKernel(noise_level=1),\n",
              "                                        n_restarts_optimizer=2, noise='gaussian',\n",
              "                                        normalize_y=True, random_state=1608637542), GaussianProcessRegressor(kernel=1**2 * Matern(length_scale=[1, 1, 1], nu=2.5) + WhiteKernel(noise_level=1),\n",
              "                                        n_restarts_optimizer=2, noise='gaussian',\n",
              "                                        normalize_y=True, random_state=1608637542), GaussianProcessRegressor(kernel=1**2 * Matern(length_scale=[1, 1, 1], nu=2.5) + WhiteKernel(noise_level=1),\n",
              "                                        n_restarts_optimizer=2, noise='gaussian',\n",
              "                                        normalize_y=True, random_state=1608637542)]\n",
              "        space: Space([Real(low=0, high=1, prior='uniform', transform='normalize'),\n",
              "                      Real(low=0, high=1, prior='uniform', transform='normalize'),\n",
              "                      Real(low=0, high=1, prior='uniform', transform='normalize')])\n",
              " random_state: RandomState(MT19937)\n",
              "        specs:     args:                    func: <function objective_function at 0x7ec753c3aef0>\n",
              "                                      dimensions: Space([Real(low=0, high=1, prior='uniform', transform='normalize'),\n",
              "                                                         Real(low=0, high=1, prior='uniform', transform='normalize'),\n",
              "                                                         Real(low=0, high=1, prior='uniform', transform='normalize')])\n",
              "                                  base_estimator: GaussianProcessRegressor(kernel=1**2 * Matern(length_scale=[1, 1, 1], nu=2.5),\n",
              "                                                                           n_restarts_optimizer=2, noise='gaussian',\n",
              "                                                                           normalize_y=True, random_state=1608637542)\n",
              "                                         n_calls: 20\n",
              "                                 n_random_starts: None\n",
              "                                n_initial_points: 10\n",
              "                         initial_point_generator: random\n",
              "                                        acq_func: gp_hedge\n",
              "                                   acq_optimizer: auto\n",
              "                                              x0: None\n",
              "                                              y0: None\n",
              "                                    random_state: RandomState(MT19937)\n",
              "                                         verbose: False\n",
              "                                        callback: None\n",
              "                                        n_points: 10000\n",
              "                            n_restarts_optimizer: 5\n",
              "                                              xi: 0.01\n",
              "                                           kappa: 1.96\n",
              "                                          n_jobs: 1\n",
              "                                model_queue_size: None\n",
              "                                space_constraint: None\n",
              "               function: base_minimize"
            ]
          },
          "metadata": {},
          "execution_count": 30
        }
      ]
    },
    {
      "cell_type": "code",
      "source": [
        "# Step 6: Extract the Results\n",
        "# Once the optimization is complete, we can extract the best combination of traffic sources\n",
        "# that produced the highest engagement rate.\n",
        "best_traffic_sources = result.x  # The best traffic source parameters found by the optimizer\n",
        "best_engagement_rate = -result.fun  # The best engagement rate (we use - because we minimized earlier)\n",
        "\n",
        "print(best_traffic_sources)\n",
        "\n",
        "print(best_engagement_rate)"
      ],
      "metadata": {
        "colab": {
          "base_uri": "https://localhost:8080/"
        },
        "id": "-0aORzDn25le",
        "outputId": "b3bf2ab7-3167-40fe-bfd6-290804cc09f4"
      },
      "execution_count": null,
      "outputs": [
        {
          "output_type": "stream",
          "name": "stdout",
          "text": [
            "[1.0, 1.0, 1.0]\n",
            "1.0\n"
          ]
        }
      ]
    },
    {
      "cell_type": "code",
      "source": [
        "# Step 7: Print the Results\n",
        "# Display the best traffic source combination and the best engagement rate found by the optimizer.\n",
        "print(f\"Best traffic source combination found by Bayesian Optimization:\")\n",
        "print(f\"Organic Search: {best_traffic_sources[0] * 100:.2f}%\")\n",
        "print(f\"Direct: {best_traffic_sources[1] * 100:.2f}%\")\n",
        "print(f\"Referral: {best_traffic_sources[2] * 100:.2f}%\")\n",
        "print(f\"Best Engagement Rate: {best_engagement_rate:.4f}\")"
      ],
      "metadata": {
        "colab": {
          "base_uri": "https://localhost:8080/"
        },
        "id": "vuckpaZh2yMq",
        "outputId": "0de7cb33-0eb7-4d89-f933-fe69b04aee1f"
      },
      "execution_count": null,
      "outputs": [
        {
          "output_type": "stream",
          "name": "stdout",
          "text": [
            "Best traffic source combination found by Bayesian Optimization:\n",
            "Organic Search: 100.00%\n",
            "Direct: 100.00%\n",
            "Referral: 100.00%\n",
            "Best Engagement Rate: 1.0000\n"
          ]
        }
      ]
    },
    {
      "cell_type": "code",
      "execution_count": null,
      "metadata": {
        "colab": {
          "base_uri": "https://localhost:8080/"
        },
        "id": "iDVyhRezPVPj",
        "outputId": "6a46a7a9-5165-40a4-a8cc-197ea6d71a67"
      },
      "outputs": [
        {
          "output_type": "stream",
          "name": "stdout",
          "text": [
            "Drive already mounted at /content/drive/; to attempt to forcibly remount, call drive.mount(\"/content/drive/\", force_remount=True).\n"
          ]
        }
      ],
      "source": [
        "from google.colab import drive\n",
        "drive.mount('/content/drive/')"
      ]
    },
    {
      "cell_type": "code",
      "source": [
        "# You need to install the 'scikit-optimize' library because it contains the gp_minimize function,\n",
        "# which is required for Bayesian Optimization. This will ensure the missing module error does not happen.\n",
        "# This step only needs to be run once in your environment.\n",
        "!pip install scikit-optimize"
      ],
      "metadata": {
        "colab": {
          "base_uri": "https://localhost:8080/"
        },
        "id": "M_ZFvpbRt3c4",
        "outputId": "5dcfa818-7320-46a0-a17a-2ff5415613ad"
      },
      "execution_count": null,
      "outputs": [
        {
          "output_type": "stream",
          "name": "stdout",
          "text": [
            "Requirement already satisfied: scikit-optimize in /usr/local/lib/python3.10/dist-packages (0.10.2)\n",
            "Requirement already satisfied: joblib>=0.11 in /usr/local/lib/python3.10/dist-packages (from scikit-optimize) (1.4.2)\n",
            "Requirement already satisfied: pyaml>=16.9 in /usr/local/lib/python3.10/dist-packages (from scikit-optimize) (24.7.0)\n",
            "Requirement already satisfied: numpy>=1.20.3 in /usr/local/lib/python3.10/dist-packages (from scikit-optimize) (1.26.4)\n",
            "Requirement already satisfied: scipy>=1.1.0 in /usr/local/lib/python3.10/dist-packages (from scikit-optimize) (1.13.1)\n",
            "Requirement already satisfied: scikit-learn>=1.0.0 in /usr/local/lib/python3.10/dist-packages (from scikit-optimize) (1.3.2)\n",
            "Requirement already satisfied: packaging>=21.3 in /usr/local/lib/python3.10/dist-packages (from scikit-optimize) (24.1)\n",
            "Requirement already satisfied: PyYAML in /usr/local/lib/python3.10/dist-packages (from pyaml>=16.9->scikit-optimize) (6.0.2)\n",
            "Requirement already satisfied: threadpoolctl>=2.0.0 in /usr/local/lib/python3.10/dist-packages (from scikit-learn>=1.0.0->scikit-optimize) (3.5.0)\n"
          ]
        }
      ]
    },
    {
      "cell_type": "code",
      "source": [
        "# Importing necessary libraries\n",
        "# These libraries are needed to work with data, visualization, and Bayesian Optimization.\n",
        "import pandas as pd  # For handling datasets and data manipulation\n",
        "import numpy as np  # For mathematical operations\n",
        "import matplotlib.pyplot as plt  # For data visualization\n",
        "from skopt import gp_minimize  # For Bayesian Optimization\n",
        "from skopt.space import Real  # Defining the search space for continuous parameters\n",
        "\n",
        "# Step 1: Load the Dataset\n",
        "# We're loading the dataset from the given file path.\n",
        "# This dataset contains traffic source data and key metrics like sessions and engagement rate.\n",
        "data_path = '/content/drive/MyDrive/Dataset For Bayesian Model/data-export (1).csv'\n",
        "df = pd.read_csv(data_path)  # Read the CSV file into a DataFrame for easy manipulation\n",
        "\n",
        "# Step 2: Explore the Dataset\n",
        "# It's a good idea to check the first few rows of the dataset to understand its structure.\n",
        "# This helps ensure that we have loaded the data correctly and understand what columns are available.\n",
        "print(df.head())  # Display the first 5 rows of the dataset to get a sense of its contents\n",
        "\n",
        "# Step 3: Define the Objective Function\n",
        "# The objective function is what the Bayesian optimizer tries to maximize (or minimize).\n",
        "# Here, we want to maximize the \"Engagement Rate\" based on different traffic sources.\n",
        "# The optimizer will test different combinations of traffic sources to find the best engagement rate.\n",
        "def objective_function(params):\n",
        "    \"\"\"\n",
        "    Objective function for Bayesian Optimization.\n",
        "    This function calculates the engagement rate based on input traffic sources (e.g., Organic, Direct, Referral).\n",
        "    The goal is to maximize the engagement rate by adjusting traffic sources.\n",
        "\n",
        "    Args:\n",
        "    params: A list of traffic source values in the form [Organic_Search, Direct, Referral].\n",
        "\n",
        "    Returns:\n",
        "    - Negative engagement rate (we minimize, so negative turns it into maximization).\n",
        "    \"\"\"\n",
        "    # Unpacking the traffic source values (e.g., Organic Search, Direct, Referral)\n",
        "    Organic_Search, Direct, Referral = params\n",
        "\n",
        "    # We create a simplified engagement rate formula based on the traffic source values.\n",
        "    # In reality, this can be a complex formula, but here we just simulate it for demonstration.\n",
        "    engagement_rate = Organic_Search * 0.5 + Direct * 0.3 + Referral * 0.2\n",
        "\n",
        "    # Return the negative of the engagement rate because gp_minimize minimizes by default.\n",
        "    # To maximize engagement rate, we return it as a negative value.\n",
        "    return -engagement_rate\n",
        "\n",
        "# Step 4: Define the Search Space\n",
        "# The search space defines the possible range of values that each traffic source can take.\n",
        "# For example, Organic Search traffic can range from 0% (0.0) to 100% (1.0).\n",
        "search_space = [\n",
        "    Real(0, 1, name='Organic_Search'),  # Organic Search traffic percentage (0% to 100%)\n",
        "    Real(0, 1, name='Direct'),  # Direct traffic percentage (0% to 100%)\n",
        "    Real(0, 1, name='Referral')  # Referral traffic percentage (0% to 100%)\n",
        "]\n",
        "\n",
        "# Step 5: Run Bayesian Optimization\n",
        "# Here, we use the gp_minimize function to perform Bayesian Optimization.\n",
        "# The optimizer will try different traffic source combinations to find the one that maximizes engagement rate.\n",
        "result = gp_minimize(\n",
        "    func=objective_function,  # The objective function defined earlier\n",
        "    dimensions=search_space,  # The search space for traffic sources\n",
        "    n_calls=20,  # Number of iterations (the number of attempts the optimizer will make)\n",
        "    random_state=42  # Setting a random seed for reproducibility (so results are the same every time)\n",
        ")\n",
        "\n",
        "# Step 6: Extract the Results\n",
        "# Once the optimization is complete, we can extract the best combination of traffic sources\n",
        "# that produced the highest engagement rate.\n",
        "best_traffic_sources = result.x  # The best traffic source parameters found by the optimizer\n",
        "best_engagement_rate = -result.fun  # The best engagement rate (we use - because we minimized earlier)\n",
        "\n",
        "# Step 7: Print the Results\n",
        "# Display the best traffic source combination and the best engagement rate found by the optimizer.\n",
        "print(f\"Best traffic source combination found by Bayesian Optimization:\")\n",
        "print(f\"Organic Search: {best_traffic_sources[0] * 100:.2f}%\")\n",
        "print(f\"Direct: {best_traffic_sources[1] * 100:.2f}%\")\n",
        "print(f\"Referral: {best_traffic_sources[2] * 100:.2f}%\")\n",
        "print(f\"Best Engagement Rate: {best_engagement_rate:.4f}\")\n",
        "\n",
        "# Step 8: Visualize the Optimization Process\n",
        "# We can also visualize how the engagement rate improved over time as the optimizer explored different options.\n",
        "# This helps us see if the optimization process is working well.\n",
        "plt.plot(-np.array(result.func_vals))  # Plot the engagement rate over the number of iterations\n",
        "plt.xlabel(\"Iteration\")  # Label for the x-axis\n",
        "plt.ylabel(\"Engagement Rate\")  # Label for the y-axis\n",
        "plt.title(\"Optimization of Engagement Rate Over Time\")  # Title of the plot\n",
        "plt.show()\n",
        "\n",
        "# Final Notes:\n",
        "# This model shows how Bayesian Optimization can be used to find the best combination of traffic sources\n",
        "# (like Organic Search, Direct, and Referral) to maximize engagement rate.\n",
        "# You can expand the model to optimize for other metrics (like sessions or total revenue) or add more traffic sources.\n"
      ],
      "metadata": {
        "colab": {
          "base_uri": "https://localhost:8080/",
          "height": 1000
        },
        "id": "cIvGTvXoYpFQ",
        "outputId": "2521e7c0-5c2d-4656-c608-179c39bac99e"
      },
      "execution_count": null,
      "outputs": [
        {
          "output_type": "stream",
          "name": "stdout",
          "text": [
            "  Session primary channel group (Default Channel Group)  Sessions  \\\n",
            "0                                     Organic Social            5   \n",
            "1                                     Organic Search          218   \n",
            "2                                      Organic Video            7   \n",
            "3                                             Direct            0   \n",
            "4                                           Referral            0   \n",
            "\n",
            "   Engaged sessions  Engagement rate  Average engagement time per session  \\\n",
            "0                 3         0.600000                           124.000000   \n",
            "1                99         0.454128                            37.509174   \n",
            "2                 2         0.285714                            30.000000   \n",
            "3                 0         0.000000                             0.000000   \n",
            "4                 0         0.000000                             0.000000   \n",
            "\n",
            "   Events per session  Event count  Key events  Session key event rate  \\\n",
            "0           20.400000          102           0                       0   \n",
            "1            8.871560         1934           0                       0   \n",
            "2            8.571429           60           0                       0   \n",
            "3            0.000000            0           0                       0   \n",
            "4            0.000000            0           0                       0   \n",
            "\n",
            "   Total revenue  \n",
            "0              0  \n",
            "1              0  \n",
            "2              0  \n",
            "3              0  \n",
            "4              0  \n",
            "Best traffic source combination found by Bayesian Optimization:\n",
            "Organic Search: 100.00%\n",
            "Direct: 100.00%\n",
            "Referral: 100.00%\n",
            "Best Engagement Rate: 1.0000\n"
          ]
        },
        {
          "output_type": "display_data",
          "data": {
            "text/plain": [
              "<Figure size 640x480 with 1 Axes>"
            ],
            "image/png": "[encoded data removed]"
          },
          "metadata": {}
        }
      ]
    },
    {
      "cell_type": "markdown",
      "source": [
        "# Understanding the Output and Chart:\n",
        "\n",
        "**1. Best Traffic Source Combination Found by Bayesian Optimization:**\n",
        "\n",
        "*  **Organic Search: 100%:** This means that the optimizer found that putting **all your traffic from Organic Search** (search engine traffic) would yield the highest Engagement Rate.\n",
        "\n",
        "*  **Direct: 100%:** Similarly, **Direct Traffic (people typing your URL directly into their browser)** should also be fully utilized to maximize engagement.\n",
        "\n",
        "*  **Referral: 100%:** This indicates that **Referral Traffic (traffic coming from links on other websites)** is also important for reaching the best engagement.\n",
        "\n",
        "In short, the optimizer is telling you that you should focus on Organic Search, Direct, and Referral traffic sources equally (100% each) to maximize your website's engagement.\n",
        "\n",
        "*  **Best Engagement Rate: 1.000:** The optimization process found that this combination of traffic sources would lead to a perfect engagement rate of **1.0 (100% engagement).** This means that users from these **sources are highly engaged, interacting a lot with your site.**\n",
        "\n",
        "**2. Optimization of Engagement Rate Over Time (Chart Explanation):**\n",
        "\n",
        "*  **X-axis (Iterations):** This shows the number of times the optimizer tried different combinations of traffic sources. Each number represents an attempt to find the best mix of traffic sources.\n",
        "\n",
        "* **Y-axis (Engagement Rate):** This shows the **Engagement Rate (which ranges from 0 to 1)** for each combination. The goal is to maximize the engagement rate, meaning getting users to stay longer and interact more on your site.\n",
        "\n",
        "*  **Fluctuations in the Line:** The line **goes up and down as the optimizer tests different combinations.** Around the **10th iteration, the Engagement Rate peaks at 1.0,** meaning the optimizer found the best combination."
      ],
      "metadata": {
        "id": "sDf-0jSfnDeX"
      }
    },
    {
      "cell_type": "markdown",
      "source": [
        "#  What Should You Do with This Output as a Website Owner?\n",
        "\n",
        "This output provides valuable insights into which traffic sources will give you the best user engagement on your website. Below are specific steps you can take based on these results to increase engagement and grow your business:\n",
        "\n",
        "**1. Focus on Organic Search Traffic**\n",
        "\n",
        "* **What does this mean:** Organic Search (visitors finding your site via search engines like Google) is crucial for driving high engagement on your website.\n",
        "\n",
        "**What can you do:**\n",
        "\n",
        "*  **SEO Optimization:** Focus on Search Engine Optimization (SEO) strategies to rank higher on search engines and attract more visitors from Organic Search.\n",
        "\n",
        "*  **Target High-Intent Keywords:** Research and target keywords that users are actively searching for. Use tools like Google Keyword Planner or Ahrefs to find the best keywords.\n",
        "\n",
        "*  **Content Marketing:** Publish high-quality, relevant content (e.g., blog posts, guides, or product pages) that answers search queries and drives organic traffic.\n",
        "\n"
      ],
      "metadata": {
        "id": "b4soxrS-opFM"
      }
    },
    {
      "cell_type": "markdown",
      "source": [
        "**2. Leverage Direct Traffic**\n",
        "\n",
        "* **What does this mean:** Direct traffic represents users who type your website URL directly into their browser, meaning they already know about your brand. The model suggests that Direct Traffic is also important for high engagement.\n",
        "\n",
        "**What can you do:**\n",
        "\n",
        "*  **Brand Awareness:** Focus on **increasing brand awareness** through **online campaigns, email marketing, or social media** to ensure that users know your **website URL** and can visit it directly.\n",
        "\n",
        "*  **Retargeting Campaigns:** Use **retargeting ads** to remind **previous visitors to return to your website.** These users are more likely to engage because they already know your brand.\n",
        "\n",
        "*  **Customer Loyalty Programs:** If you have loyal customers or frequent users, you can **send them emails or direct links,** encouraging them to visit the site directly.\n",
        "\n",
        "**3. Improve Referral Traffic**\n",
        "\n",
        "*  **What does this mean:** Referral traffic comes from external sites linking to your website. Optimizing referral traffic can lead to high user engagement, as the optimizer suggests focusing on this traffic source.\n",
        "\n",
        "**What can you do:**\n",
        "\n",
        "*  **Build Backlinks:** Increase the number of high-quality backlinks (links from other sites to your site) to boost referral traffic. You can do this by guest posting, creating partnerships, or reaching out to industry blogs.\n",
        "\n",
        "*  **List Your Website on Directories:** Ensure your site is listed on relevant industry directories, as this can drive referral traffic.\n",
        "\n",
        "*  **Collaborate with Influencers:** Partner with influencers in your industry who can link to your site from their blogs or social media accounts.\n",
        "\n",
        "\n",
        "**4. Track and Improve Engagement Rate**\n",
        "\n",
        "*  **What does this mean:** The engagement rate is a crucial metric because it shows how actively users are interacting with your site. A higher engagement rate means users are more interested in your content, which increases the chance of conversion (e.g., purchases, sign-ups).\n",
        "\n",
        "**What can you do:**\n",
        "\n",
        "*  **Enhance User Experience:** Make sure your website is easy to navigate and user-friendly. Remove any barriers (slow load times, confusing layout) that might reduce user engagement.\n",
        "\n",
        "*  **Create Engaging Content:** Ensure your content is interactive (videos, infographics, quizzes, etc.) so that users spend more time on your site and interact more with your content.\n",
        "\n",
        "*  **Measure Engagement:** Use tools like Google Analytics to continuously monitor your engagement rate and make adjustments based on user behavior."
      ],
      "metadata": {
        "id": "4UnvB-b6pY6D"
      }
    },
    {
      "cell_type": "markdown",
      "source": [
        "# Example Action Plan Based on the Output:\n",
        "\n",
        "Here’s a simple step-by-step plan you could follow as a website owner based on this output:\n",
        "\n",
        "**1. Improve SEO for Organic Search Traffic:**\n",
        "\n",
        "*  Conduct keyword research and optimize your web pages for the most relevant search terms.\n",
        "\n",
        "*  Focus on producing content that ranks well on Google and other search engines.\n",
        "\n",
        "**2. Increase Direct Traffic:**\n",
        "\n",
        "*  **Run a branding campaign** so that more users know your website URL and visit your site directly.\n",
        "\n",
        "*  **Send regular emails** to your customer base with direct links to your site, encouraging them to revisit.\n",
        "\n",
        "**3. Enhance Referral Traffic:**\n",
        "\n",
        "*  **Start building backlinks** by collaborating with partners or posting guest articles.\n",
        "\n",
        "*  **Create partnerships with bloggers or industry influencers** to bring more referral traffic.\n",
        "\n",
        "**4. Monitor Engagement Rate:**\n",
        "\n",
        "*  Use Google Analytics to measure your website’s engagement rate regularly.\n",
        "\n",
        "*  Conduct A/B testing to see what site designs, content formats, or CTAs (Calls-to-Action) improve engagement."
      ],
      "metadata": {
        "id": "TSSrq9L9qqNl"
      }
    },
    {
      "cell_type": "code",
      "source": [
        "# Step 0: Install the necessary library for Bayesian Optimization\n",
        "# If this library hasn't been installed yet, we need to install it.\n",
        "# This package allows us to perform Bayesian Optimization.\n",
        "!pip install scikit-optimize"
      ],
      "metadata": {
        "colab": {
          "base_uri": "https://localhost:8080/"
        },
        "id": "XxJ-AzFtuE1l",
        "outputId": "4edebf5a-9101-4092-be6e-f4cacb3a1972"
      },
      "execution_count": null,
      "outputs": [
        {
          "output_type": "stream",
          "name": "stdout",
          "text": [
            "Requirement already satisfied: scikit-optimize in /usr/local/lib/python3.10/dist-packages (0.10.2)\n",
            "Requirement already satisfied: joblib>=0.11 in /usr/local/lib/python3.10/dist-packages (from scikit-optimize) (1.4.2)\n",
            "Requirement already satisfied: pyaml>=16.9 in /usr/local/lib/python3.10/dist-packages (from scikit-optimize) (24.7.0)\n",
            "Requirement already satisfied: numpy>=1.20.3 in /usr/local/lib/python3.10/dist-packages (from scikit-optimize) (1.26.4)\n",
            "Requirement already satisfied: scipy>=1.1.0 in /usr/local/lib/python3.10/dist-packages (from scikit-optimize) (1.13.1)\n",
            "Requirement already satisfied: scikit-learn>=1.0.0 in /usr/local/lib/python3.10/dist-packages (from scikit-optimize) (1.3.2)\n",
            "Requirement already satisfied: packaging>=21.3 in /usr/local/lib/python3.10/dist-packages (from scikit-optimize) (24.1)\n",
            "Requirement already satisfied: PyYAML in /usr/local/lib/python3.10/dist-packages (from pyaml>=16.9->scikit-optimize) (6.0.2)\n",
            "Requirement already satisfied: threadpoolctl>=2.0.0 in /usr/local/lib/python3.10/dist-packages (from scikit-learn>=1.0.0->scikit-optimize) (3.5.0)\n"
          ]
        }
      ]
    },
    {
      "cell_type": "code",
      "source": [
        "# Importing necessary libraries\n",
        "# We need these libraries to work with data, visualization, and Bayesian Optimization.\n",
        "import pandas as pd  # For handling datasets\n",
        "import numpy as np  # For mathematical operations\n",
        "import matplotlib.pyplot as plt  # For visualizing the results\n",
        "from skopt import gp_minimize  # For Bayesian Optimization\n",
        "from skopt.space import Real, Categorical  # To define the search space for different variables\n",
        "\n",
        "# Step 1: Load the Dataset\n",
        "# We are loading the second dataset, which contains page-level data.\n",
        "# This data includes information about individual pages, such as their sessions, engagement, and events.\n",
        "file_path = '/content/drive/MyDrive/Dataset For Bayesian Model/Page Title And Page Path.csv'\n",
        "df_page = pd.read_csv(file_path)  # Loading the dataset into a pandas DataFrame\n",
        "\n",
        "# Step 2: Explore the Dataset\n",
        "# We will check the first few rows of the dataset to make sure the data is loaded correctly\n",
        "# and to understand what columns and information are available.\n",
        "print(df_page.head())  # This will print the first 5 rows of the dataset\n",
        "\n",
        "# Step 3: Define the Objective Function\n",
        "# In Bayesian Optimization, we need to define an \"objective function,\" which is the function we want to optimize.\n",
        "# In this case, we will aim to optimize (maximize) the \"Engaged Sessions\" for each page.\n",
        "# The optimizer will adjust certain page parameters (e.g., Events per Session, Average Engagement Time)\n",
        "# to find the best combination that maximizes engaged sessions.\n",
        "\n",
        "def objective_function_page(params):\n",
        "    \"\"\"\n",
        "    Objective function for Bayesian Optimization at the page level.\n",
        "    The function takes different page-level metrics (e.g., Average Engagement Time, Events per Session)\n",
        "    and returns the engaged sessions. We aim to maximize the engaged sessions.\n",
        "\n",
        "    Args:\n",
        "    params: A list of page metrics [Average Engagement Time, Events per Session].\n",
        "\n",
        "    Returns:\n",
        "    - Negative engaged sessions (since we minimize by default, we return negative to turn this into maximization).\n",
        "    \"\"\"\n",
        "    # Unpacking the input parameters (Average Engagement Time and Events per Session)\n",
        "    avg_engagement_time, events_per_session = params\n",
        "\n",
        "    # A simple calculation for engaged sessions based on these two parameters\n",
        "    # In a real-world case, this would be a complex function derived from historical data.\n",
        "    engaged_sessions = avg_engagement_time * 0.6 + events_per_session * 0.4\n",
        "\n",
        "    # We return the negative of engaged sessions because the optimizer minimizes by default.\n",
        "    return -engaged_sessions\n",
        "\n",
        "# Step 4: Define the Search Space\n",
        "# The search space defines the range of possible values for the variables we're optimizing.\n",
        "# Here, we define ranges for the \"Average Engagement Time\" and \"Events per Session\" for the pages.\n",
        "search_space_page = [\n",
        "    Real(0, 1000, name='Average Engagement Time'),  # Engagement time in seconds, from 0 to 1000 seconds\n",
        "    Real(0, 50, name='Events per Session')  # Events per session, from 0 to 50 (max events)\n",
        "]\n",
        "\n",
        "# Step 5: Run Bayesian Optimization\n",
        "# We now run the optimization using the gp_minimize function.\n",
        "# The optimizer will try different combinations of page-level metrics to find the best setup.\n",
        "result_page = gp_minimize(\n",
        "    func=objective_function_page,  # The objective function that calculates engaged sessions\n",
        "    dimensions=search_space_page,  # The search space for \"Average Engagement Time\" and \"Events per Session\"\n",
        "    n_calls=20,  # The number of iterations (how many combinations the optimizer will try)\n",
        "    random_state=42  # Setting a random seed for reproducibility, so the results are the same every time\n",
        ")\n",
        "\n",
        "# Step 6: Extract the Results\n",
        "# After running the optimizer, we can extract the best combination of \"Average Engagement Time\"\n",
        "# and \"Events per Session\" that maximizes engaged sessions.\n",
        "best_page_parameters = result_page.x  # The best combination of parameters found by the optimizer\n",
        "best_engaged_sessions = -result_page.fun  # The best engaged sessions (negative because we minimized earlier)\n",
        "\n",
        "# Step 7: Print the Results\n",
        "# We print the best combination of page metrics and the highest engaged sessions found by the optimizer.\n",
        "print(f\"Best page parameters found by Bayesian Optimization:\")\n",
        "print(f\"Average Engagement Time: {best_page_parameters[0]:.2f} seconds\")\n",
        "print(f\"Events per Session: {best_page_parameters[1]:.2f} events\")\n",
        "print(f\"Best Engaged Sessions: {best_engaged_sessions:.4f}\")\n",
        "\n",
        "# Step 8: Visualize the Optimization Process\n",
        "# To better understand how the optimization progressed, we plot the engaged sessions over the iterations.\n",
        "# This visualization helps us see if the optimizer is improving the engaged sessions as it tries new values.\n",
        "plt.plot(-np.array(result_page.func_vals))  # Plotting the engaged sessions (converted back from negative values)\n",
        "plt.xlabel(\"Iteration\")  # Label for the x-axis (iterations)\n",
        "plt.ylabel(\"Engaged Sessions\")  # Label for the y-axis (engaged sessions)\n",
        "plt.title(\"Optimization of Engaged Sessions Over Time\")  # Title of the plot\n",
        "plt.show()\n",
        "\n",
        "# Final Notes:\n",
        "# This model helps optimize page-level metrics such as \"Average Engagement Time\" and \"Events per Session\"\n",
        "# to maximize engaged sessions. This is a simplified example, and in real cases, the objective function\n",
        "# could be more complex, involving multiple factors that influence page performance.\n"
      ],
      "metadata": {
        "colab": {
          "base_uri": "https://localhost:8080/",
          "height": 1000
        },
        "id": "WInMMGwVZmFu",
        "outputId": "6e5cfa9d-8330-4b5e-e100-d0ffce976486"
      },
      "execution_count": null,
      "outputs": [
        {
          "output_type": "stream",
          "name": "stdout",
          "text": [
            "                                       Page title  \\\n",
            "0                                             NaN   \n",
            "1                        Page Not Found - Webtool   \n",
            "2  Malaysia Adult SEO: Boost Visibility | WebTool   \n",
            "3   Tf_IDF Checker | TF_IDF Measurement - Webtool   \n",
            "4                     Sitemap Generator - Webtool   \n",
            "\n",
            "     Page path and screen class  Sessions  \\\n",
            "0                           NaN       289   \n",
            "1                         /tall         2   \n",
            "2  /adult-seo-service-malaysia/         1   \n",
            "3              /tf-idf-checker/         3   \n",
            "4           /sitemap-generator/         7   \n",
            "\n",
            "   Average engagement time per session  Engaged sessions  Events per session  \n",
            "0                            40.276817               138            9.588235  \n",
            "1                            25.000000                 2           18.000000  \n",
            "2                            24.000000                 1           12.000000  \n",
            "3                            20.000000                 2            9.333333  \n",
            "4                            31.142857                 4            9.142857  \n"
          ]
        },
        {
          "output_type": "stream",
          "name": "stderr",
          "text": [
            "/usr/local/lib/python3.10/dist-packages/skopt/optimizer/optimizer.py:517: UserWarning: The objective has been evaluated at point [1000.0, 50.0] before, using random point [780.3863820031765, 6.174805207324387]\n",
            "  warnings.warn(\n",
            "/usr/local/lib/python3.10/dist-packages/skopt/optimizer/optimizer.py:517: UserWarning: The objective has been evaluated at point [1000.0, 50.0] before, using random point [447.883616256759, 27.505779790182842]\n",
            "  warnings.warn(\n",
            "/usr/local/lib/python3.10/dist-packages/skopt/optimizer/optimizer.py:517: UserWarning: The objective has been evaluated at point [1000.0, 50.0] before, using random point [808.1780337625408, 8.124079318417778]\n",
            "  warnings.warn(\n",
            "/usr/local/lib/python3.10/dist-packages/skopt/optimizer/optimizer.py:517: UserWarning: The objective has been evaluated at point [1000.0, 50.0] before, using random point [213.42349864939087, 29.143870279294543]\n",
            "  warnings.warn(\n",
            "/usr/local/lib/python3.10/dist-packages/skopt/optimizer/optimizer.py:517: UserWarning: The objective has been evaluated at point [1000.0, 50.0] before, using random point [98.18125324164653, 48.620507686960046]\n",
            "  warnings.warn(\n",
            "/usr/local/lib/python3.10/dist-packages/skopt/optimizer/optimizer.py:517: UserWarning: The objective has been evaluated at point [1000.0, 50.0] before, using random point [488.4379990962521, 6.281806351725851]\n",
            "  warnings.warn(\n"
          ]
        },
        {
          "output_type": "stream",
          "name": "stdout",
          "text": [
            "Best page parameters found by Bayesian Optimization:\n",
            "Average Engagement Time: 1000.00 seconds\n",
            "Events per Session: 50.00 events\n",
            "Best Engaged Sessions: 620.0000\n"
          ]
        },
        {
          "output_type": "display_data",
          "data": {
            "text/plain": [
              "<Figure size 640x480 with 1 Axes>"
            ],
            "image/png": "[encoded data removed]"
          },
          "metadata": {}
        }
      ]
    },
    {
      "cell_type": "markdown",
      "source": [
        "# Understanding the Output and Chart:\n",
        "\n",
        "**Best Page Parameters Found by Bayesian Optimization:**\n",
        "\n",
        "*  **Average Engagement Time:** **1000 seconds:** This means that the best result found by the optimization model suggests that **users should engage with your content for 1000 seconds (about 16.67 minutes)** to maximize engaged sessions.\n",
        "\n",
        "*  **Events per Session:** **50 events:** The best model results suggest that **users should perform around 50 actions (clicks, scrolls, form submissions,** etc.) during a session to maximize engaged sessions.\n",
        "\n",
        "*  **Best Engaged Sessions: 620:** The best scenario found by the model would result in **620 engaged sessions**. Engaged sessions refer to **users who spent enough time on your website and interacted significantly with your content** (as measured by actions/events).\n",
        "\n",
        "\n",
        "**Chart: \"Optimization of Engaged Sessions Over Time\"**\n",
        "\n",
        "*  **X-axis (Iteration):** This shows the number of times the optimization model tried different combinations of **\"Average Engagement Time\"** and **\"Events per Session.\"** Each number represents an **\"iteration\" where the model tested a new combination.**\n",
        "\n",
        "* **Y-axis (Engaged Sessions):** This shows the number of **engaged sessions the model predicted for each iteration**. Engaged sessions are critical because they represent users who are **actively interacting with your content**, which is an important metric for measuring the effectiveness of your website.\n",
        "\n",
        "**What the chart shows:**\n",
        "\n",
        "*  The model tested different combinations of **engagement time** and **events per session** over 20 iterations.\n",
        "\n",
        "*  The results fluctuated at different points, but eventually, the model found that the best possible outcome would result in **620 engaged sessions**.\n",
        "\n"
      ],
      "metadata": {
        "id": "54pNbvGSeTEa"
      }
    },
    {
      "cell_type": "markdown",
      "source": [
        "# What Should You Do with This Output as a Website Owner?\n",
        "\n",
        "This output provides you with **optimal user behavior** insights that you can use to improve your **website’s performance, engagement, and business outcomes.** Here’s a breakdown of what this means and **what steps you can take:**\n",
        "\n",
        "**1. Focus on Increasing User Engagement Time (Target: 1000 seconds)**\n",
        "\n",
        "**What does this mean:** Your model suggests that users should spend around 1000 seconds (16.67 minutes) per session on your website to maximize engagement.\n",
        "\n",
        "**How can you achieve this:**\n",
        "\n",
        "* **Improve content quality:** Add more in-depth content like **blog posts, videos, or tutorials** that encourage users to spend more time on your pages.\n",
        "\n",
        "*  **Reduce bounce rates:** Ensure that the first impression is great by improving **page load times** and making sure the website is responsive.\n",
        "\n",
        "*  **Add interactive elements:** Implement features like **quizzes, surveys, or calculators** that keep users engaged for longer periods.\n",
        "\n",
        "*  **Create internal linking:** Encourage users to explore more pages by using **strategic internal links to relevant content.** For example, if a user is reading an article about **\"SEO,\"** link them to a related article about **\"Keyword Research.\"**\n",
        "\n",
        "**2. Encourage More User Actions (Target: 50 Events per Session)**\n",
        "\n",
        "**What does this mean:** The model suggests that users who perform around 50 actions per session (like clicks, form submissions, or scrolling) are highly engaged. More interactions often lead to higher conversion rates.\n",
        "\n",
        "**How can you encourage this:**\n",
        "\n",
        "*  **Call to Action (CTA):** Include more **prominent CTAs** such as **\"Learn More,\" \"Download Now,\" or \"Sign Up\"** to encourage user actions.\n",
        "\n",
        "*  **Interactive Content:** Embed interactive features like **clickable images, expandable FAQs, or dynamic infographics** that prompt users to click more.\n",
        "\n",
        "*  **Lead generation forms:** Add more opportunities for users to **submit forms,** such as for **newsletters, white papers, or free trials.**\n",
        "\n",
        "* **Incentivize Actions:** Offer rewards, **discounts, or free content** when users complete certain actions (like filling out forms or clicking on product pages).\n",
        "\n"
      ],
      "metadata": {
        "id": "AuhEdoW7hyq-"
      }
    },
    {
      "cell_type": "markdown",
      "source": [
        "**3. Use the Insights to Inform Business Decisions**\n",
        "\n",
        "**What does this mean:** The ultimate goal is to **maximize engaged sessions** because more engaged users are likely to convert **(buy a product, sign up for a service, etc.)**. The **620 engaged sessions** found in the model means that, under optimal conditions, your website could attract 620 highly engaged users.\n",
        "\n",
        "**How can you use this:**\n",
        "\n",
        "*  **Track metrics closely:** Start monitoring metrics like **engaged sessions, engagement time, and events per session** using tools like Google Analytics.\n",
        "\n",
        "*  **Set engagement goals:** Set up a goal to reach or exceed 620 engaged sessions per day/week. You can use Google Analytics Goals to track how well you are reaching this target.\n",
        "\n",
        "*  **A/B Testing:** Test different website features to see **what drives more engagement.** For example, try testing different types of **landing pages, content length, or CTA placement.**\n",
        "\n"
      ],
      "metadata": {
        "id": "PxLNt5igkUfN"
      }
    },
    {
      "cell_type": "markdown",
      "source": [
        "# Example Action Plan Based on the Output:\n",
        "\n",
        "**To make it even clearer, here’s a step-by-step example of what you should do as a website owner based on this output:**\n",
        "\n",
        "**1. Review Content Strategy:**\n",
        "\n",
        "*  Lengthen key pages to encourage users to spend at least 1000 seconds (about 17 minutes).\n",
        "\n",
        "* Add rich media (like videos) to key pages to keep users engaged for longer periods.\n",
        "\n",
        "**2. Increase User Interactions:**\n",
        "\n",
        "* Add more CTAs across pages to encourage user interaction (aim for 50 interactions).\n",
        "\n",
        "* Introduce quizzes, forms, or interactive elements to prompt more clicks and actions from users.\n",
        "\n",
        "**3. Monitor Progress:**\n",
        "\n",
        "*  Use **Google Analytics** to monitor how **engagement time and events per session are improving.** Set a goal to **achieve 620 engaged sessions** over a specific period (weekly, monthly).\n",
        "\n",
        "**4. Optimize for Conversions:**\n",
        "\n",
        "*  If you can **increase engaged sessions**, start focusing on **conversion rates.** Engaged users are more likely to become paying customers or leads, so ensure you have the right conversion funnels in place (e.g., product pages, service forms, checkout processes)."
      ],
      "metadata": {
        "id": "Pv3DhhtJlQvC"
      }
    }
  ]
}