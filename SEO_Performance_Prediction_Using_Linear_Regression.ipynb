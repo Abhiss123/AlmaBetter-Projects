{
  "nbformat": 4,
  "nbformat_minor": 0,
  "metadata": {
    "colab": {
      "provenance": [],
      "authorship_tag": "ABX9TyMODSnahkNcv3AGJIw+ahmw",
      "include_colab_link": true
    },
    "kernelspec": {
      "name": "python3",
      "display_name": "Python 3"
    },
    "language_info": {
      "name": "python"
    }
  },
  "cells": [
    {
      "cell_type": "markdown",
      "metadata": {
        "id": "view-in-github",
        "colab_type": "text"
      },
      "source": [
        "<a href=\"https://colab.research.google.com/github/Abhiss123/AlmaBetter-Projects/blob/main/SEO_Performance_Prediction_Using_Linear_Regression.ipynb\" target=\"_parent\"><img src=\"https://colab.research.google.com/assets/colab-badge.svg\" alt=\"Open In Colab\"/></a>"
      ]
    },
    {
      "cell_type": "markdown",
      "source": [
        "# Project : SEO Performance Prediction Using Linear Regression\n",
        "\n",
        "**Purpose of the Linear Regression Project:**\n",
        "\n",
        "*  The main purpose of this project is to understand how different factors related to a website, like **backlinks, page load time, and content length, affect the website's traffic (the number of visitors).** You want to see if these factors can predict how many people will visit the site.\n",
        "\n",
        "In simple terms, **the project aims to:**\n",
        "\n",
        "* **Use data** from the website (about **backlinks, how fast the pages load, and how long the content is**).\n",
        "\n",
        "* **Analyze** how these factors impact how many people visit the website.\n",
        "\n",
        "*  **Predict traffic** using the relationships between these factors.\n",
        "\n",
        "We are using a method called **linear regression.** This is a statistical technique that helps you see how much one thing **(like backlinks) affects another (like traffic).** By feeding the website data into this model, we can see if improving certain aspects, like getting more backlinks or improving page speed, can lead to more visitors.\n",
        "\n"
      ],
      "metadata": {
        "id": "6TQDULdoGWTZ"
      }
    },
    {
      "cell_type": "markdown",
      "source": [
        "# Understanding Linear Regression in Simple Terms:\n",
        "\n",
        "* Linear regression is a basic statistical method used to understand the relationship between two or more variables. It predicts one variable (the outcome, called the **dependent variable**) based on the value of another variable **(the independent variable).** Imagine you want to predict your SEO performance **(like how many visitors a webpage gets)** based on another factor like **how much money you spend on ads.** **Linear regression helps you find a straight-line relationship between these two things.** It tries to figure out how much the dependent variable **(SEO performance)** changes when the independent variable **(ad spend)** changes.\n",
        "\n",
        "**Use Cases of Linear Regression:**\n",
        "\n",
        "*  **SEO Metrics and Performance Prediction:** In your case, linear regression can help predict how different factors, such as **keyword rankings, backlinks, or website traffic, affect your SEO performance.**\n",
        "\n",
        "*  **Sales Prediction:** Businesses often use linear regression to forecast future sales based on historical data like advertising spend, seasonality, or product price changes.\n",
        "\n",
        "*  **Real Estate Pricing:** It can be used to predict the price of houses based on factors like location, square footage, and number of bedrooms.\n",
        "\n",
        "*   **Health:** Predicting outcomes like weight loss based on diet and exercise levels.\n",
        "\n",
        "# Real-Life Implementation:\n",
        "\n",
        "In terms of SEO, let’s say you want to predict how many visitors a webpage will get. The independent variables might be:\n",
        "\n",
        "* **Number of backlinks** (how many other websites link to your webpage)\n",
        "\n",
        "* **Keywords used**\n",
        "\n",
        "* **Time spent on page by visitors** The dependent variable would be the number of visitors to your webpage. By using a linear regression model, you can determine how changes in the **backlinks, keywords, and other factors affect the number of visitors.**\n",
        "\n",
        "# What Input Does a Linear Regression Model Need?\n",
        "\n",
        "The model doesn't need URLs of webpages but **numerical data.** Here’s what it requires:\n",
        "\n",
        "*  **Independent variables:** These are the factors that affect SEO, like **backlinks, keyword rankings, page speed**, etc. You need to collect data on these.\n",
        "\n",
        "*  **Dependent variable:** This is what you’re trying to predict, such as the number of visitors to your website or your SEO score.\n",
        "\n",
        "# Simple Example in SEO:\n",
        "\n",
        "Imagine you run a website and want to understand how keyword usage impacts your traffic. You collect data on:\n",
        "\n",
        "*  **X (independent variable):** Number of keywords used per article.\n",
        "\n",
        "*  **Y (dependent variable):** Number of visitors to the article.\n",
        "\n",
        "A linear regression model will show you how strongly X influences Y, and it will create a simple formula like:\n",
        "\n",
        "*  **Y = a + bX**\n",
        "\n",
        "Where **a is a constant (starting point)** and **b is the change in Y** (**traffic**) for every 1-unit change in X (**keywords**).\n",
        "\n"
      ],
      "metadata": {
        "id": "q8BVanXbJEgC"
      }
    },
    {
      "cell_type": "markdown",
      "source": [
        "#  1) Where Can You Get the Data for Linear Regression in SEO?\n",
        "\n",
        "To use linear regression for SEO prediction, you’ll need specific data about the performance of a website. Here's where you can collect that data:\n",
        "\n",
        "*  **Google Analytics:** Provides essential data like **how many visitors your website gets, how long they stay, and what pages they visit.** You can download data such as **pageviews, bounce rates, and session durations.**\n",
        "\n",
        "*  **Google Search Console:** Offers insights on **keyword rankings, click-through rates (CTR)**, and how often your website appears in search results for different queries.\n",
        "\n",
        "*  **SEMrush or Ahrefs:** SEO tools that give you data on **backlinks, domain authority, keyword rankings, and the number of keywords a website ranks for.** They also provide details on competitors.\n",
        "\n",
        "*  **Screaming Frog:** A tool to crawl your website and get detailed information about **each webpage, including metadata, page load times, and errors.**\n",
        "\n",
        "# 2) What Data Do You Need from thatware.co to Feed into the Model?\n",
        "\n",
        "\n",
        "Since you’re working with the thatware.co website, you’ll need specific metrics (data points) to build your model. Here's a simple breakdown of the types of data you should collect and where to get them:\n",
        "\n",
        "**Independent Variables (Factors affecting SEO):**\n",
        "\n",
        "*  **Number of Backlinks:** These are links from other websites to thatware.co. Tools like **SEMrush, Ahrefs, or Moz** will give you the exact number of backlinks and even the quality of those links.\n",
        "\n",
        "*  **Keyword Rankings:** You need data on where thatware.co ranks for various keywords (e.g., \"AI in SEO\"). This can be pulled from **Google Search Console or tools like Ahrefs and SEMrush.**\n",
        "\n",
        "*  **Page Load Time:** How fast each page of thatware.co loads. You can use **Google PageSpeed Insights or tools like GTMetrix or Screaming Frog.**\n",
        "\n",
        "*  **Content Length:** How many words are on each page. Tools like **Screaming Frog** can crawl your website and provide content length for each URL.\n",
        "\n",
        "*  **Social Shares:** How often the pages from thatware.co are shared on social media platforms like Twitter or Facebook. Tools like **BuzzSumo can help track social engagement.**\n",
        "\n",
        "*  **Bounce Rate:** The percentage of visitors who leave the site after viewing only one page. You can get this from Google Analytics.\n",
        "\n",
        "\n",
        "**Dependent Variable (What you're trying to predict):**\n",
        "\n",
        "*  **Website Traffic:** This is the number of visitors each page of thatware.co gets. Google Analytics is the best source for this data.\n",
        "\n",
        "*  **Conversions:** If your goal is to measure business outcomes (like how many visitors turn into paying customers), you can track this via Google Analytics.\n",
        "\n",
        "*  **SEO Ranking Changes:** You may also want to predict changes in ranking position for specific keywords. Google Search Console or Ahrefs can provide this data.\n",
        "\n",
        "\n",
        "# 3) Feeding Data into the Linear Regression Model:\n",
        "\n",
        "Once you have the data from thatware.co, you can use it to build a linear regression model. For example, if you want to predict traffic based on the number of backlinks and keyword rankings, your model might look like this:\n",
        "\n",
        "*  **Independent Variables:** Number of backlinks, keyword rankings, page load time, etc.\n",
        "\n",
        "*  **Dependent Variable:** Website traffic.\n",
        "\n",
        "A simple formula in linear regression would look like this:\n",
        "\n",
        "       Traffic = a + (b1 * Backlinks) + (b2 * Keyword Ranking) + (b3 * Page Load Time) + ...\n",
        "\n",
        "Here, **a** is a **constant**, and **b1, b2, b3** are **coefficients** that tell you how much each **independent variable (like backlinks)** impacts the **traffic.**\n",
        "\n",
        "   "
      ],
      "metadata": {
        "id": "OAhQi31qMXIT"
      }
    },
    {
      "cell_type": "markdown",
      "source": [
        "# 1) Number of Backlinks: Using SEMrush, Ahrefs, or Moz\n",
        "\n",
        "Backlinks are links from other websites pointing to thatware.co, and tools like SEMrush, Ahrefs, and Moz help you track them.\n",
        "\n",
        "**Step-by-step guide for SEMrush:**\n",
        "\n",
        "1.  **Sign up:** Visit https://www.semrush.com/projects/ and create an account (you can start with a free trial if you don’t want to pay right away).\n",
        "\n",
        "2. **Enter the domain:** After logging in, go to the dashboard and type thatware.co in the search bar at the top.\n",
        "\n",
        "3.  **Backlink Analysis:** On the left-hand side, click on Backlink Analytics. SEMrush will show you the total number of backlinks, referring domains (websites linking to thatware.co), and the authority score (quality of the links).\n",
        "\n",
        "4. **Export Data:** You can download or export this data in CSV format by clicking on the export button. This will give you all the information needed for the model.\n",
        "\n",
        "\n",
        "**Using Ahrefs and Moz:**\n",
        "\n",
        "Both tools are very similar to SEMrush. You would:\n",
        "\n",
        "1. Sign up for an account on Aherfs (https://ahrefs.com/)  or Moz (https://moz.com/).\n",
        "2. Search for the domain thatware.co.\n",
        "3. Navigate to the Backlinks or Site Explorer section to see the number of backlinks.\n",
        "4. Export the data if needed.\n",
        "\n",
        "\n",
        "# 2) Keyword Rankings: Using SEMrush, Ahrefs, or Google Search Console\n",
        "\n",
        "Keyword rankings tell you how well thatware.co ranks for specific search terms like \"AI in SEO\".\n",
        "\n",
        "**Step-by-step guide for Google Search Console:**\n",
        "\n",
        "1.  **Set up Search Console:** Go to Google Search Console (https://search.google.com/search-console/welcome) and sign in with a Google account. You will need to verify ownership of thatware.co by adding the website to Search Console (this requires either adding a small piece of code to the website or verifying it through Google Analytics).\n",
        "\n",
        "2. **View Performance Report:** Once verified, go to the Performance section. Here, you can see the keywords that are bringing traffic to thatware.co, along with metrics like clicks, impressions, and ranking positions.\n",
        "\n",
        "3. **Export the Data:** You can export this data to use in your model by clicking on the export button in the top right.\n",
        "\n",
        "**Using SEMrush or Ahrefs for Keyword Rankings:**\n",
        "\n",
        "1. **Log in:** Sign in to SEMrush or Ahrefs.\n",
        "\n",
        "2. **Enter the domain:** Type thatware.co in the search bar.\n",
        "\n",
        "3. **Keyword Analytics:** In SEMrush, navigate to the **Organic Research section under Domain Overview.** This will show you the keywords thatware.co ranks for. In Ahrefs, click on Organic Keywords in the Site Explorer section.\n",
        "\n",
        "4. **Export the Data:** Click the export button to download the keyword rankings."
      ],
      "metadata": {
        "id": "2yzqZpfmQIoh"
      }
    },
    {
      "cell_type": "markdown",
      "source": [
        "# 3) Page Load Time: Using Google PageSpeed Insights or GTMetrix\n",
        "\n",
        "Page load time affects how quickly visitors can access content on thatware.co. Faster websites rank better in search results.\n",
        "\n",
        "**Step-by-step guide for Google PageSpeed Insights:**\n",
        "\n",
        "1. **Go to PageSpeed Insights:** Visit Google PageSpeed Insights (https://pagespeed.web.dev/) .\n",
        "\n",
        "2. **Enter the URL:** Type in the full URL of thatware.co and click \"Analyze.\"\n",
        "\n",
        "3. **View Results:** PageSpeed Insights will give you a score out of 100 and detailed suggestions on how to improve load time. This tool analyzes both mobile and desktop performance.\n",
        "\n",
        "4. **Save the Report:** You can save or take screenshots of this data for use in your project.\n",
        "\n",
        "Since Google PageSpeed Insights doesn’t provide an export option, you can either manually copy the data into a CSV or Excel file, take screenshots for a presentation, or use a web scraper to extract the data. Alternatively, tools like **GTMetrix or Pingdom** (https://tools.pingdom.com/) provide export options and can be used instead.\n",
        "\n",
        "\n",
        "\n",
        "**Using GTMetrix:**\n",
        "\n",
        "1. **Sign up:** Visit GTMetrix (https://gtmetrix.com/) and create a free account.\n",
        "2. **Enter URL:** Type in the URL of thatware.co and click \"Test Your Site.\"\n",
        "3.  **View Results:** GTMetrix will provide you with detailed load time information, including total page load time, page size, and the number of requests.\n",
        "4. **Download Report:** You can download the full report for your analysis.\n",
        "\n",
        "# 4) Content Length: Using Screaming Frog\n",
        "\n",
        "Content length measures the number of words on each page. Screaming Frog helps you analyze this by crawling the website.\n",
        "\n",
        "**Step-by-step guide for Screaming Frog:**\n",
        "\n",
        "1.  **Download the Tool:** Go to Screaming Frog ( https://www.screamingfrog.co.uk/seo-spider/ ) and download the free version of their SEO Spider tool (this will be enough for small websites).\n",
        "\n",
        "2. **Run a Crawl:** Open the tool, enter thatware.co in the search bar, and click \"Start\" to begin crawling the website.\n",
        "\n",
        "3. **View Content Data:** After the crawl is complete, go to the Internal tab. You will see the list of URLs and details such as word count, page title, and meta description.\n",
        "\n",
        "4. **Export Data:** Click on \"Export\" to download the data into a CSV file.\n",
        "\n",
        "\n",
        "# 5) Social Shares: Using BuzzSumo\n",
        "\n",
        "Social shares track how many times thatware.co pages have been shared on social media like Facebook and Twitter.\n",
        "\n",
        "**Step-by-step guide for BuzzSumo:**\n",
        "\n",
        "1. **Sign up:** Go to BuzzSumo (https://buzzsumo.com/) and create an account (they offer a free trial).\n",
        "\n",
        "2. **Enter the Domain:** In the search bar, type thatware.co and hit search.\n",
        "\n",
        "3. **View Social Share Data:** BuzzSumo will show you which pages on thatware.co are being shared the most on social platforms.\n",
        "\n",
        "4. **Export Data:** You can export this data for your analysis by clicking the export button.\n",
        "\n",
        "\n"
      ],
      "metadata": {
        "id": "yOV06R5xUtrO"
      }
    },
    {
      "cell_type": "markdown",
      "source": [
        "# Code Explanation:\n",
        "\n",
        "**from google.colab import drive**\n",
        "\n",
        "* **Purpose:** This line imports the **drive** module from the **google.colab library**.\n",
        "\n",
        "* **What does it do?:** Google Colab is an online platform where you can run Python code. To access files stored in your Google Drive (such as datasets or files), you need to import this specific **drive** module. It gives you the tools needed to interact with your Google Drive from the Colab environment.\n",
        "\n",
        "**drive.mount('/content/drive')**\n",
        "\n",
        "* **Purpose:** This line mounts (connects) your Google Drive to the Colab environment.\n",
        "\n",
        "* **What does it do?:** This line of code asks Google Colab to connect to your Google Drive. When it runs, you will be prompted to log in to your Google account and give permission to Colab to access your Google Drive files. Once connected, all the files from your Drive can be accessed directly from Colab as if they were stored on your local computer.\n",
        "\n",
        "* **'/content/drive':** This specifies the path where your Google Drive will be mounted inside the Colab file system. After mounting, you can access your files by navigating to this directory **(/content/drive).**\n",
        "\n",
        "# What Happens After You Run This Code:\n",
        "\n",
        "1. A prompt will appear asking you to **sign in to your Google account.**\n",
        "\n",
        "2. After signing in, you will see an **authorization code.** You need to copy this code and paste it into Colab to grant access.\n",
        "\n",
        "3. Once mounted, you will see your Google Drive files under **/content/drive/.** You can now read and write files from your Drive in Colab.\n",
        "\n"
      ],
      "metadata": {
        "id": "vYfLPl37ZZLr"
      }
    },
    {
      "cell_type": "code",
      "execution_count": null,
      "metadata": {
        "colab": {
          "base_uri": "https://localhost:8080/"
        },
        "id": "QNipbwcH_KD_",
        "outputId": "7fa03646-1517-45ad-997d-7cb914cb9eb9"
      },
      "outputs": [
        {
          "output_type": "stream",
          "name": "stdout",
          "text": [
            "Mounted at /content/drive\n"
          ]
        }
      ],
      "source": [
        "from google.colab import drive\n",
        "# Mount Google Drive to access your files\n",
        "drive.mount('/content/drive')\n"
      ]
    },
    {
      "cell_type": "markdown",
      "source": [
        "import pandas as pd\n",
        "\n",
        "import numpy as np\n",
        "\n",
        "from sklearn.model_selection import train_test_split\n",
        "\n",
        "from sklearn.linear_model import LinearRegression\n",
        "\n",
        "from sklearn.metrics import mean_squared_error, r2_score\n",
        "\n",
        "**Purpose:** This section imports all the libraries that you'll need for your linear regression project.\n",
        "\n",
        "* **pandas:** A library used for data manipulation and analysis, especially for working with data in table format (like CSV files).\n",
        "\n",
        "* **numpy:** A library for numerical computing. It helps with mathematical operations on arrays (large sets of numbers).\n",
        "\n",
        "* **train_test_split:** A function from sklearn **(scikit-learn)** that splits your dataset into training and testing sets. This helps in building and evaluating your machine learning model.\n",
        "\n",
        "* **LinearRegression:** A tool to create the linear regression model. It helps in finding the relationship between **independent variables (like backlinks) and the dependent variable (like traffic).**\n",
        "\n",
        "*  **mean_squared_error, r2_score:** These are functions used to **evaluate the performance of the linear regression model.** They help measure how well the model predicts the traffic based on the input data **(like backlinks)**.\n",
        "\n",
        "# 2. Loading the Datasets:\n",
        "\n",
        "**backlinks_path =** '/content/drive/MyDrive/Traffic Data of Thatware/thatware.co-backlinks.csv'\n",
        "\n",
        "**traffic_path =** '/content/drive/MyDrive/Traffic Data of Thatware/Traffic data-export.csv'\n",
        "\n",
        "*  **Purpose:** These lines store the file paths for the datasets (the CSV files) in variables called backlinks_path and traffic_path.\n",
        "\n",
        "* **backlinks_path:** This variable holds the path to the backlinks dataset (independent variable).\n",
        "\n",
        "* **traffic_path:** This variable holds the path to the traffic dataset (dependent variable).\n",
        "\n",
        "* **Why do you need this?** You need to tell the program where the files are stored in your Google Drive so that it can load the data and use it.\n",
        "\n",
        "# 3. Loading Data into Pandas DataFrames:\n",
        "\n",
        "**backlinks_df =** pd.read_csv(backlinks_path)\n",
        "\n",
        "**traffic_df =** pd.read_csv(traffic_path)\n",
        "\n",
        "**Purpose:** These lines load the data from the CSV files into **pandas DataFrames,** which are like tables where the data is organized in rows and columns.\n",
        "* **pd.read_csv(backlinks_path):** This function reads the **backlinks CSV file** and stores the data in a DataFrame called **backlinks_df.**\n",
        "\n",
        "* **pd.read_csv(traffic_path):** This function reads the **traffic CSV file** and stores the data in a DataFrame called **traffic_df.**\n",
        "\n",
        "*  **Why use DataFrames?** Pandas DataFrames make it easy to work with and manipulate tabular data, like the data in your CSV files. They allow you to filter, sort, and analyze your data effectively.\n",
        "\n",
        "# 4. Checking the First Few Rows of Each Dataset:\n",
        "\n",
        "print(backlinks_df.head())\n",
        "\n",
        "print(traffic_df.head())\n",
        "\n",
        "**Purpose:** These lines display the first few rows of the backlinks and traffic datasets, so you can check what the data looks like.\n",
        "\n",
        "*  **backlinks_df.head():** This shows the first 5 rows of the backlinks_df DataFrame. It gives you a quick view of the structure and content of the backlinks data.\n",
        "\n",
        "*  **traffic_df.head():** This shows the first 5 rows of the traffic_df DataFrame. It helps you verify that the traffic data is loaded correctly and that the columns are what you expect.\n",
        "\n",
        "*  **Why do this?** It's important to look at the data early in the process to make sure it was loaded correctly and to understand its structure (e.g., column names, data types).\n",
        "\n"
      ],
      "metadata": {
        "id": "PH0JgmDgbyVz"
      }
    },
    {
      "cell_type": "code",
      "source": [
        "# Import necessary libraries\n",
        "import pandas as pd\n",
        "import numpy as np\n",
        "from sklearn.model_selection import train_test_split\n",
        "from sklearn.linear_model import LinearRegression\n",
        "from sklearn.metrics import mean_squared_error, r2_score\n",
        "\n",
        "# Load the independent variable (backlinks) and dependent variable (traffic) datasets\n",
        "# Replace with your file paths\n",
        "backlinks_path = '/content/drive/MyDrive/Traffic Data of Thatware/thatware.co-backlinks.csv'\n",
        "traffic_path = '/content/drive/MyDrive/Traffic Data of Thatware/Traffic data-export.csv'\n",
        "\n",
        "# Load the datasets into pandas DataFrames\n",
        "backlinks_df = pd.read_csv(backlinks_path)\n",
        "traffic_df = pd.read_csv(traffic_path)\n",
        "\n",
        "# Check the first few rows of both datasets to understand the structure\n",
        "print(backlinks_df.head())\n",
        "print(traffic_df.head())\n"
      ],
      "metadata": {
        "colab": {
          "base_uri": "https://localhost:8080/"
        },
        "id": "Q3QIsT4n_O1O",
        "outputId": "bd1717bd-026e-4300-c331-af9ff5fa680d"
      },
      "execution_count": null,
      "outputs": [
        {
          "output_type": "stream",
          "name": "stdout",
          "text": [
            "   Page ascore                                       Source title  \\\n",
            "0           71  Top 10+ Best Digital Marketing Agencies in 202...   \n",
            "1           71  Top 10+ Best Digital Marketing Agencies in 202...   \n",
            "2           70  Top 10+ Best Digital Marketing Agencies - June...   \n",
            "3           69  Top 10+ Content Marketing Agencies - June 2024...   \n",
            "4           65                                              98cai   \n",
            "\n",
            "                                          Source url            Target url  \\\n",
            "0  https://www.goodfirms.co/directory/marketing-s...  https://thatware.co/   \n",
            "1  https://www.goodfirms.co/directory/marketing-s...  https://thatware.co/   \n",
            "2  https://www.goodfirms.co/directory/marketing-s...  https://thatware.co/   \n",
            "3  https://www.goodfirms.co/directory/marketing-s...  https://thatware.co/   \n",
            "4                                 https://98cai.net/  https://thatware.co/   \n",
            "\n",
            "          Anchor  External links  Internal links  Nofollow  Sponsored    Ugc  \\\n",
            "0  Visit Website              74             357      True      False  False   \n",
            "1   THATWARE LLP              74             357      True      False  False   \n",
            "2  Visit website              67             301      True      False  False   \n",
            "3  Visit website              60             308      True      False  False   \n",
            "4       thatware             641             655     False      False  False   \n",
            "\n",
            "   Text  Frame   Form  Image  Sitewide  First seen   Last seen  New link  \\\n",
            "0  True  False  False  False     False  2024-06-15  2024-09-06     False   \n",
            "1  True  False  False  False     False  2024-02-28  2024-09-06     False   \n",
            "2  True  False  False  False     False  2023-06-02  2024-07-08     False   \n",
            "3  True  False  False  False     False  2023-06-06  2024-07-08     False   \n",
            "4  True  False  False  False     False  2024-03-01  2024-03-29     False   \n",
            "\n",
            "   Lost link  \n",
            "0      False  \n",
            "1      False  \n",
            "2       True  \n",
            "3       True  \n",
            "4      False  \n",
            "  Session primary channel group (Default Channel Group)  Users  Sessions  \\\n",
            "0                                             Direct     31018     31422   \n",
            "1                                     Organic Search      4475      5540   \n",
            "2                                         Unassigned       870       707   \n",
            "3                                           Referral       281       450   \n",
            "4                                     Organic Social       117       159   \n",
            "\n",
            "   Engaged sessions  Average engagement time per session  \\\n",
            "0             15435                            18.017185   \n",
            "1              3690                            38.072383   \n",
            "2                65                           166.190948   \n",
            "3               263                            22.657778   \n",
            "4                93                            22.735849   \n",
            "\n",
            "   Engaged sessions per user  Events per session  Engagement rate  \\\n",
            "0                   0.497614            4.616861         0.491216   \n",
            "1                   0.824581            5.674007         0.666065   \n",
            "2                   0.074713           11.847242         0.091938   \n",
            "3                   0.935943            4.924444         0.584444   \n",
            "4                   0.794872            5.333333         0.584906   \n",
            "\n",
            "   Event count  Key events  Session key event rate  Total revenue  \n",
            "0       145071           0                       0              0  \n",
            "1        31434           0                       0              0  \n",
            "2         8376           0                       0              0  \n",
            "3         2216           0                       0              0  \n",
            "4          848           0                       0              0  \n"
          ]
        }
      ]
    },
    {
      "cell_type": "markdown",
      "source": [
        "# Step 1: Aggregating Backlink Data\n",
        "\n",
        "    total_backlinks = backlinks_df['External links'].sum()\n",
        "\n",
        "    total_internal_links = backlinks_df['Internal links'].sum()\n",
        "\n",
        "    print(\"\\nTotal Backlinks:\", total_backlinks)\n",
        "\n",
        "    print(\"Total Internal Links:\", total_internal_links)\n",
        "\n",
        "**Purpose:** We are summing up certain columns in the backlinks_df DataFrame to get total values.\n",
        "\n",
        "*   **'External links':** This column might represent the number of backlinks (links from other websites).\n",
        "*  **.sum():** Adds up all the values in this column to give the **total number of backlinks.**\n",
        "\n",
        "* **Example:** If you have 5 rows of backlink data, and each row has different numbers of external links (say 10, 15, 20), this code will add them together to get the total.\n",
        "\n",
        "* The same goes for internal links, which are links between pages on the same website.\n",
        "\n"
      ],
      "metadata": {
        "id": "utTB4IhRgFNO"
      }
    },
    {
      "cell_type": "code",
      "source": [
        "total_backlinks = backlinks_df['External links'].sum()\n",
        "total_internal_links = backlinks_df['Internal links'].sum()\n",
        "print(\"\\nTotal Backlinks:\", total_backlinks)\n",
        "print(\"Total Internal Links:\", total_internal_links)\n"
      ],
      "metadata": {
        "colab": {
          "base_uri": "https://localhost:8080/"
        },
        "id": "09MqTeWrh8nj",
        "outputId": "0c3a75d7-c30a-468f-e4eb-1b9d1d4b0198"
      },
      "execution_count": null,
      "outputs": [
        {
          "output_type": "stream",
          "name": "stdout",
          "text": [
            "\n",
            "Total Backlinks: 997\n",
            "Total Internal Links: 2573\n"
          ]
        }
      ]
    },
    {
      "cell_type": "markdown",
      "source": [
        "# Step 2: Aggregating Traffic Data\n",
        "\n",
        "    total_users = traffic_df['Users'].sum()\n",
        "\n",
        "    total_sessions = traffic_df['Sessions'].sum()\n",
        "\n",
        "    average_engagement_time = traffic_df['Average engagement time per session'].mean()\n",
        "\n",
        "    print(\"\\nTotal Users (Traffic):\", total_users)\n",
        "\n",
        "    print(\"Total Sessions:\", total_sessions)\n",
        "\n",
        "    print(\"Average Engagement Time per Session:\", average_engagement_time)\n",
        "\n",
        "**Purpose:** We aggregate traffic data in the same way we did for the backlinks data.\n",
        "\n",
        "* **'Users':** This column contains the number of users (visitors) to the website. .sum() adds up all the users to give the total number of visitors.\n",
        "\n",
        "* **'Sessions':** This column contains the number of sessions (visits). .sum() gives the total number of visits.\n",
        "\n",
        "*  **'Average engagement time per session':** This column shows how long visitors stay on the website during each session. .mean() calculates the average time.\n",
        "\n",
        "*  **Example:** If you have 3 sessions with engagement times of 40 seconds, 50 seconds, and 60 seconds, the average engagement time would be (40 + 50 + 60) ÷ 3 = 50 seconds.\n",
        "\n",
        "\n"
      ],
      "metadata": {
        "id": "PmcEwks0iBJW"
      }
    },
    {
      "cell_type": "code",
      "source": [
        "total_users = traffic_df['Users'].sum()\n",
        "total_sessions = traffic_df['Sessions'].sum()\n",
        "average_engagement_time = traffic_df['Average engagement time per session'].mean()\n",
        "print(\"\\nTotal Users (Traffic):\", total_users)\n",
        "print(\"Total Sessions:\", total_sessions)\n",
        "print(\"Average Engagement Time per Session:\", average_engagement_time)\n"
      ],
      "metadata": {
        "colab": {
          "base_uri": "https://localhost:8080/"
        },
        "id": "ZgHwtLKQi9fR",
        "outputId": "825b9cad-f610-4204-d0d4-ca6f0a92ada1"
      },
      "execution_count": null,
      "outputs": [
        {
          "output_type": "stream",
          "name": "stdout",
          "text": [
            "\n",
            "Total Users (Traffic): 36776\n",
            "Total Sessions: 38295\n",
            "Average Engagement Time per Session: 46.112357103333345\n"
          ]
        }
      ]
    },
    {
      "cell_type": "markdown",
      "source": [
        "# Step 3: Preparing Data for Linear Regression\n",
        "\n",
        "     data = {\n",
        "    'Total Backlinks': [total_backlinks],\n",
        "    'Total Internal Links': [total_internal_links],\n",
        "    'Total Sessions': [total_sessions],\n",
        "    }\n",
        "    df = pd.DataFrame(data)\n",
        "    y = [total_users]\n",
        "\n",
        "**Purpose:** Now, we create a small dataset to be used in the linear regression model.\n",
        "\n",
        "*  **Independent Variables (X):** These are the factors you think might influence the outcome (e.g., backlinks and sessions).\n",
        "\n",
        "     * Total Backlinks, Total Internal Links, and Total Sessions are independent variables stored in a table (df).\n",
        "\n",
        "* **Dependent Variable (y):** This is what you want to predict (in this case, total users/traffic).\n",
        "\n",
        "\n",
        "\n"
      ],
      "metadata": {
        "id": "d-5tBpa0jE3-"
      }
    },
    {
      "cell_type": "code",
      "source": [
        "data = {\n",
        "    'Total Backlinks': [total_backlinks],\n",
        "    'Total Internal Links': [total_internal_links],\n",
        "    'Total Sessions': [total_sessions],\n",
        "}\n",
        "df = pd.DataFrame(data)\n",
        "y = [total_users]\n",
        "\n",
        "print(df)\n",
        "print(y)"
      ],
      "metadata": {
        "colab": {
          "base_uri": "https://localhost:8080/"
        },
        "id": "gx5R2CmZl9kD",
        "outputId": "bca09a7a-3c52-46b5-bbe6-da58b0c0b078"
      },
      "execution_count": null,
      "outputs": [
        {
          "output_type": "stream",
          "name": "stdout",
          "text": [
            "   Total Backlinks  Total Internal Links  Total Sessions\n",
            "0              997                  2573           38295\n",
            "[36776]\n"
          ]
        }
      ]
    },
    {
      "cell_type": "markdown",
      "source": [
        "#  Step 4: Initializing the Linear Regression Model\n",
        "\n",
        "    model = LinearRegression()\n",
        "    model.fit(df, y)\n",
        "\n",
        "**Purpose:** This step creates and trains the linear regression model.\n",
        "\n",
        "*  **LinearRegression():** This function initializes the linear regression model.\n",
        "\n",
        "* **model.fit(df, y):** The model is trained on the data in df (independent variables) and y (dependent variable). The model learns the relationships between the variables.\n",
        "\n"
      ],
      "metadata": {
        "id": "EMR-EuPqmN5n"
      }
    },
    {
      "cell_type": "code",
      "source": [
        "model = LinearRegression()\n",
        "model.fit(df, y)\n"
      ],
      "metadata": {
        "colab": {
          "base_uri": "https://localhost:8080/",
          "height": 74
        },
        "id": "6-3oUDkomNSh",
        "outputId": "7cb8556d-d951-470a-88af-aff853ed452a"
      },
      "execution_count": null,
      "outputs": [
        {
          "output_type": "execute_result",
          "data": {
            "text/plain": [
              "LinearRegression()"
            ],
            "text/html": [
              "<style>#sk-container-id-1 {color: black;}#sk-container-id-1 pre{padding: 0;}#sk-container-id-1 div.sk-toggleable {background-color: white;}#sk-container-id-1 label.sk-toggleable__label {cursor: pointer;display: block;width: 100%;margin-bottom: 0;padding: 0.3em;box-sizing: border-box;text-align: center;}#sk-container-id-1 label.sk-toggleable__label-arrow:before {content: \"▸\";float: left;margin-right: 0.25em;color: #696969;}#sk-container-id-1 label.sk-toggleable__label-arrow:hover:before {color: black;}#sk-container-id-1 div.sk-estimator:hover label.sk-toggleable__label-arrow:before {color: black;}#sk-container-id-1 div.sk-toggleable__content {max-height: 0;max-width: 0;overflow: hidden;text-align: left;background-color: #f0f8ff;}#sk-container-id-1 div.sk-toggleable__content pre {margin: 0.2em;color: black;border-radius: 0.25em;background-color: #f0f8ff;}#sk-container-id-1 input.sk-toggleable__control:checked~div.sk-toggleable__content {max-height: 200px;max-width: 100%;overflow: auto;}#sk-container-id-1 input.sk-toggleable__control:checked~label.sk-toggleable__label-arrow:before {content: \"▾\";}#sk-container-id-1 div.sk-estimator input.sk-toggleable__control:checked~label.sk-toggleable__label {background-color: #d4ebff;}#sk-container-id-1 div.sk-label input.sk-toggleable__control:checked~label.sk-toggleable__label {background-color: #d4ebff;}#sk-container-id-1 input.sk-hidden--visually {border: 0;clip: rect(1px 1px 1px 1px);clip: rect(1px, 1px, 1px, 1px);height: 1px;margin: -1px;overflow: hidden;padding: 0;position: absolute;width: 1px;}#sk-container-id-1 div.sk-estimator {font-family: monospace;background-color: #f0f8ff;border: 1px dotted black;border-radius: 0.25em;box-sizing: border-box;margin-bottom: 0.5em;}#sk-container-id-1 div.sk-estimator:hover {background-color: #d4ebff;}#sk-container-id-1 div.sk-parallel-item::after {content: \"\";width: 100%;border-bottom: 1px solid gray;flex-grow: 1;}#sk-container-id-1 div.sk-label:hover label.sk-toggleable__label {background-color: #d4ebff;}#sk-container-id-1 div.sk-serial::before {content: \"\";position: absolute;border-left: 1px solid gray;box-sizing: border-box;top: 0;bottom: 0;left: 50%;z-index: 0;}#sk-container-id-1 div.sk-serial {display: flex;flex-direction: column;align-items: center;background-color: white;padding-right: 0.2em;padding-left: 0.2em;position: relative;}#sk-container-id-1 div.sk-item {position: relative;z-index: 1;}#sk-container-id-1 div.sk-parallel {display: flex;align-items: stretch;justify-content: center;background-color: white;position: relative;}#sk-container-id-1 div.sk-item::before, #sk-container-id-1 div.sk-parallel-item::before {content: \"\";position: absolute;border-left: 1px solid gray;box-sizing: border-box;top: 0;bottom: 0;left: 50%;z-index: -1;}#sk-container-id-1 div.sk-parallel-item {display: flex;flex-direction: column;z-index: 1;position: relative;background-color: white;}#sk-container-id-1 div.sk-parallel-item:first-child::after {align-self: flex-end;width: 50%;}#sk-container-id-1 div.sk-parallel-item:last-child::after {align-self: flex-start;width: 50%;}#sk-container-id-1 div.sk-parallel-item:only-child::after {width: 0;}#sk-container-id-1 div.sk-dashed-wrapped {border: 1px dashed gray;margin: 0 0.4em 0.5em 0.4em;box-sizing: border-box;padding-bottom: 0.4em;background-color: white;}#sk-container-id-1 div.sk-label label {font-family: monospace;font-weight: bold;display: inline-block;line-height: 1.2em;}#sk-container-id-1 div.sk-label-container {text-align: center;}#sk-container-id-1 div.sk-container {/* jupyter's `normalize.less` sets `[hidden] { display: none; }` but bootstrap.min.css set `[hidden] { display: none !important; }` so we also need the `!important` here to be able to override the default hidden behavior on the sphinx rendered scikit-learn.org. See: https://github.com/scikit-learn/scikit-learn/issues/21755 */display: inline-block !important;position: relative;}#sk-container-id-1 div.sk-text-repr-fallback {display: none;}</style><div id=\"sk-container-id-1\" class=\"sk-top-container\"><div class=\"sk-text-repr-fallback\"><pre>LinearRegression()</pre><b>In a Jupyter environment, please rerun this cell to show the HTML representation or trust the notebook. <br />On GitHub, the HTML representation is unable to render, please try loading this page with nbviewer.org.</b></div><div class=\"sk-container\" hidden><div class=\"sk-item\"><div class=\"sk-estimator sk-toggleable\"><input class=\"sk-toggleable__control sk-hidden--visually\" id=\"sk-estimator-id-1\" type=\"checkbox\" checked><label for=\"sk-estimator-id-1\" class=\"sk-toggleable__label sk-toggleable__label-arrow\">LinearRegression</label><div class=\"sk-toggleable__content\"><pre>LinearRegression()</pre></div></div></div></div></div>"
            ]
          },
          "metadata": {},
          "execution_count": 10
        }
      ]
    },
    {
      "cell_type": "markdown",
      "source": [
        "# Step 5: Making Predictions\n",
        "\n",
        "      y_pred = model.predict(df)\n",
        "\n",
        "**Purpose:** The model is used to make predictions. Here, we’re using the same data we trained the model with (just for demonstration), so the model predicts the traffic (y) based on the given backlinks and sessions.\n"
      ],
      "metadata": {
        "id": "-_yWGtsinD9e"
      }
    },
    {
      "cell_type": "code",
      "source": [
        "y_pred = model.predict(df)\n",
        "y_pred"
      ],
      "metadata": {
        "colab": {
          "base_uri": "https://localhost:8080/"
        },
        "id": "uJP4cg7lnU7i",
        "outputId": "a5458a86-437a-43af-cf8a-4ab84256027c"
      },
      "execution_count": null,
      "outputs": [
        {
          "output_type": "execute_result",
          "data": {
            "text/plain": [
              "array([36776.])"
            ]
          },
          "metadata": {},
          "execution_count": 11
        }
      ]
    },
    {
      "cell_type": "markdown",
      "source": [
        "#  Step 6: Evaluating the Model\n",
        "\n",
        "     mse = mean_squared_error(y, y_pred)\n",
        "\n",
        "    r2 = r2_score(y, y_pred)\n",
        "    print(\"\\nMean Squared Error (MSE):\", mse)\n",
        "    print(\"R-squared (R²):\", r2)\n",
        "\n",
        "**Purpose: **This step checks how well the model performs by calculating two important metrics:\n",
        "\n",
        "*  **Mean Squared Error (MSE):** Measures how far off the predictions are from the actual values. Lower is better.\n",
        "\n",
        "*  **R-squared (R²):** Tells us how well the independent variables explain the variation in the dependent variable. Closer to 1 is better.\n",
        "\n",
        "*  **Example:** An R² of 0.8 means that 80% of the variation in traffic can be explained by the model.\n",
        "\n",
        "\n"
      ],
      "metadata": {
        "id": "4iCiGM56nZ1Z"
      }
    },
    {
      "cell_type": "code",
      "source": [
        "mse = mean_squared_error(y, y_pred)\n",
        "r2 = r2_score(y, y_pred)\n",
        "print(\"\\nMean Squared Error (MSE):\", mse)\n",
        "print(\"R-squared (R²):\", r2)\n"
      ],
      "metadata": {
        "colab": {
          "base_uri": "https://localhost:8080/"
        },
        "id": "SDqyZw_Jn9fR",
        "outputId": "0ac8a60a-0d32-4d8b-c2f4-09bf2765d74e"
      },
      "execution_count": null,
      "outputs": [
        {
          "output_type": "stream",
          "name": "stdout",
          "text": [
            "\n",
            "Mean Squared Error (MSE): 0.0\n",
            "R-squared (R²): nan\n"
          ]
        },
        {
          "output_type": "stream",
          "name": "stderr",
          "text": [
            "/usr/local/lib/python3.10/dist-packages/sklearn/metrics/_regression.py:996: UndefinedMetricWarning: R^2 score is not well-defined with less than two samples.\n",
            "  warnings.warn(msg, UndefinedMetricWarning)\n"
          ]
        }
      ]
    },
    {
      "cell_type": "markdown",
      "source": [
        "Step 7: Interpreting the Model's Coefficients\n",
        "\n",
        "    coefficients = model.coef_\n",
        "    intercept = model.intercept_\n",
        "    print(\"Model Coefficients (Impact of each independent variable):\", coefficients)\n",
        "    print(\"Model Intercept:\", intercept)\n",
        "\n",
        "**Purpose:** This shows the **coefficients** (the impact of each independent variable) and the intercept (the predicted traffic when all independent variables are 0).\n",
        "\n",
        "* **Example:** If the coefficient for** \"Total Backlinks\"** is 5, it means for every additional backlink, we expect 5 more users **(traffic).**\n",
        "\n",
        "\n"
      ],
      "metadata": {
        "id": "SI56D6Ken_2U"
      }
    },
    {
      "cell_type": "code",
      "source": [
        "coefficients = model.coef_\n",
        "intercept = model.intercept_\n",
        "print(\"Model Coefficients (Impact of each independent variable):\", coefficients)\n",
        "print(\"Model Intercept:\", intercept)\n"
      ],
      "metadata": {
        "colab": {
          "base_uri": "https://localhost:8080/"
        },
        "id": "1zAzQL_SovmV",
        "outputId": "d150cf23-8809-4bdf-d7d6-7e1a5b22a1fb"
      },
      "execution_count": null,
      "outputs": [
        {
          "output_type": "stream",
          "name": "stdout",
          "text": [
            "Model Coefficients (Impact of each independent variable): [0. 0. 0.]\n",
            "Model Intercept: 36776.0\n"
          ]
        }
      ]
    },
    {
      "cell_type": "code",
      "source": [
        "# Step 1: Import necessary libraries\n",
        "import pandas as pd\n",
        "import numpy as np\n",
        "from sklearn.model_selection import train_test_split\n",
        "from sklearn.linear_model import LinearRegression\n",
        "from sklearn.metrics import mean_squared_error, r2_score\n",
        "\n",
        "# Step 2: Load the backlinks and traffic datasets\n",
        "backlinks_path = '/content/drive/MyDrive/Traffic Data of Thatware/thatware.co-backlinks.csv'\n",
        "traffic_path = '/content/drive/MyDrive/Traffic Data of Thatware/Traffic data-export.csv'\n",
        "\n",
        "# Load the datasets into pandas DataFrames\n",
        "backlinks_df = pd.read_csv(backlinks_path)\n",
        "traffic_df = pd.read_csv(traffic_path)\n",
        "\n",
        "# Step 3: Print the first few rows to understand the structure of the datasets\n",
        "print(\"Backlinks DataFrame:\")\n",
        "print(backlinks_df.head())\n",
        "\n",
        "print(\"\\nTraffic DataFrame:\")\n",
        "print(traffic_df.head())\n",
        "\n",
        "# Step 4: Aggregate the backlinks data to calculate total backlinks and other relevant metrics\n",
        "# Example: Summing or averaging backlink-related columns\n",
        "# Here, I assume 'External links' is a relevant metric for backlinks\n",
        "total_backlinks = backlinks_df['External links'].sum()  # Total number of backlinks\n",
        "total_internal_links = backlinks_df['Internal links'].sum()  # Total number of internal links\n",
        "\n",
        "# Print the aggregated backlink metrics\n",
        "print(\"\\nTotal Backlinks:\", total_backlinks)\n",
        "print(\"Total Internal Links:\", total_internal_links)\n",
        "\n",
        "# Step 5: Aggregate the traffic data to calculate total traffic and other relevant metrics\n",
        "# Example: Summing or averaging traffic-related columns\n",
        "total_users = traffic_df['Users'].sum()  # Total users (traffic)\n",
        "total_sessions = traffic_df['Sessions'].sum()  # Total sessions\n",
        "average_engagement_time = traffic_df['Average engagement time per session'].mean()  # Average engagement time per session\n",
        "\n",
        "# Print the aggregated traffic metrics\n",
        "print(\"\\nTotal Users (Traffic):\", total_users)\n",
        "print(\"Total Sessions:\", total_sessions)\n",
        "print(\"Average Engagement Time per Session:\", average_engagement_time)\n",
        "\n",
        "# Step 6: Prepare the data for the linear regression model\n",
        "# We will create a small dataset using the aggregated metrics as independent and dependent variables\n",
        "\n",
        "# Creating a simple DataFrame with independent (X) and dependent (y) variables\n",
        "data = {\n",
        "    'Total Backlinks': [total_backlinks],\n",
        "    'Total Internal Links': [total_internal_links],\n",
        "    'Total Sessions': [total_sessions],  # You can use other traffic metrics here\n",
        "}\n",
        "\n",
        "df = pd.DataFrame(data)\n",
        "\n",
        "# The dependent variable is 'Total Users', which represents the traffic\n",
        "y = [total_users]  # This is the target variable we're trying to predict\n",
        "\n",
        "# Step 7: Initialize the linear regression model\n",
        "model = LinearRegression()\n",
        "\n",
        "# Since we only have one data point, we'll fit the model on the same data\n",
        "# Normally, you would split data into train/test sets, but here we use the small dataset we created\n",
        "model.fit(df, y)\n",
        "\n",
        "# Step 8: Making predictions (in this case, we just predict on the same data point for demonstration purposes)\n",
        "y_pred = model.predict(df)\n",
        "\n",
        "# Step 9: Calculate the model performance\n",
        "# Mean Squared Error (MSE) and R-squared are not very useful with just one data point, but for demonstration:\n",
        "mse = mean_squared_error(y, y_pred)\n",
        "r2 = r2_score(y, y_pred)\n",
        "\n",
        "# Print the results\n",
        "print(\"\\nMean Squared Error (MSE):\", mse)\n",
        "print(\"R-squared (R²):\", r2)\n",
        "\n",
        "# Step 10: Interpret the model's coefficients\n",
        "coefficients = model.coef_\n",
        "intercept = model.intercept_\n",
        "\n",
        "# Print the coefficients and intercept\n",
        "print(\"Model Coefficients (Impact of each independent variable):\", coefficients)\n",
        "print(\"Model Intercept:\", intercept)\n"
      ],
      "metadata": {
        "colab": {
          "base_uri": "https://localhost:8080/"
        },
        "id": "ihU8FDNnBq5o",
        "outputId": "b4edbb1e-c185-4f53-9cef-b9d3728e7b4c"
      },
      "execution_count": null,
      "outputs": [
        {
          "output_type": "stream",
          "name": "stdout",
          "text": [
            "Backlinks DataFrame:\n",
            "   Page ascore                                       Source title  \\\n",
            "0           71  Top 10+ Best Digital Marketing Agencies in 202...   \n",
            "1           71  Top 10+ Best Digital Marketing Agencies in 202...   \n",
            "2           70  Top 10+ Best Digital Marketing Agencies - June...   \n",
            "3           69  Top 10+ Content Marketing Agencies - June 2024...   \n",
            "4           65                                              98cai   \n",
            "\n",
            "                                          Source url            Target url  \\\n",
            "0  https://www.goodfirms.co/directory/marketing-s...  https://thatware.co/   \n",
            "1  https://www.goodfirms.co/directory/marketing-s...  https://thatware.co/   \n",
            "2  https://www.goodfirms.co/directory/marketing-s...  https://thatware.co/   \n",
            "3  https://www.goodfirms.co/directory/marketing-s...  https://thatware.co/   \n",
            "4                                 https://98cai.net/  https://thatware.co/   \n",
            "\n",
            "          Anchor  External links  Internal links  Nofollow  Sponsored    Ugc  \\\n",
            "0  Visit Website              74             357      True      False  False   \n",
            "1   THATWARE LLP              74             357      True      False  False   \n",
            "2  Visit website              67             301      True      False  False   \n",
            "3  Visit website              60             308      True      False  False   \n",
            "4       thatware             641             655     False      False  False   \n",
            "\n",
            "   Text  Frame   Form  Image  Sitewide  First seen   Last seen  New link  \\\n",
            "0  True  False  False  False     False  2024-06-15  2024-09-06     False   \n",
            "1  True  False  False  False     False  2024-02-28  2024-09-06     False   \n",
            "2  True  False  False  False     False  2023-06-02  2024-07-08     False   \n",
            "3  True  False  False  False     False  2023-06-06  2024-07-08     False   \n",
            "4  True  False  False  False     False  2024-03-01  2024-03-29     False   \n",
            "\n",
            "   Lost link  \n",
            "0      False  \n",
            "1      False  \n",
            "2       True  \n",
            "3       True  \n",
            "4      False  \n",
            "\n",
            "Traffic DataFrame:\n",
            "  Session primary channel group (Default Channel Group)  Users  Sessions  \\\n",
            "0                                             Direct     31018     31422   \n",
            "1                                     Organic Search      4475      5540   \n",
            "2                                         Unassigned       870       707   \n",
            "3                                           Referral       281       450   \n",
            "4                                     Organic Social       117       159   \n",
            "\n",
            "   Engaged sessions  Average engagement time per session  \\\n",
            "0             15435                            18.017185   \n",
            "1              3690                            38.072383   \n",
            "2                65                           166.190948   \n",
            "3               263                            22.657778   \n",
            "4                93                            22.735849   \n",
            "\n",
            "   Engaged sessions per user  Events per session  Engagement rate  \\\n",
            "0                   0.497614            4.616861         0.491216   \n",
            "1                   0.824581            5.674007         0.666065   \n",
            "2                   0.074713           11.847242         0.091938   \n",
            "3                   0.935943            4.924444         0.584444   \n",
            "4                   0.794872            5.333333         0.584906   \n",
            "\n",
            "   Event count  Key events  Session key event rate  Total revenue  \n",
            "0       145071           0                       0              0  \n",
            "1        31434           0                       0              0  \n",
            "2         8376           0                       0              0  \n",
            "3         2216           0                       0              0  \n",
            "4          848           0                       0              0  \n",
            "\n",
            "Total Backlinks: 997\n",
            "Total Internal Links: 2573\n",
            "\n",
            "Total Users (Traffic): 36776\n",
            "Total Sessions: 38295\n",
            "Average Engagement Time per Session: 46.112357103333345\n",
            "\n",
            "Mean Squared Error (MSE): 0.0\n",
            "R-squared (R²): nan\n",
            "Model Coefficients (Impact of each independent variable): [0. 0. 0.]\n",
            "Model Intercept: 36776.0\n"
          ]
        },
        {
          "output_type": "stream",
          "name": "stderr",
          "text": [
            "/usr/local/lib/python3.10/dist-packages/sklearn/metrics/_regression.py:996: UndefinedMetricWarning: R^2 score is not well-defined with less than two samples.\n",
            "  warnings.warn(msg, UndefinedMetricWarning)\n"
          ]
        }
      ]
    },
    {
      "cell_type": "markdown",
      "source": [
        "# Understanding the Output:\n",
        "\n",
        "Let me break down the output you got from the linear regression model step by step:\n",
        "\n",
        "# 1. Total Backlinks: 997\n",
        "**Total Internal Links: 2573**\n",
        "\n",
        "* This means your website, thatware.co, has 997 backlinks (external links from other websites) and 2573 internal links (links between pages within your website). Backlinks are important for SEO because they help search engines trust and rank your site higher.\n",
        "\n",
        "# 2. Total Users (Traffic): 36,776\n",
        "\n",
        "**Total Sessions: 38,295**\n",
        "\n",
        "**Average Engagement Time per Session:** 46.11 seconds\n",
        "\n",
        "* **Total Users** refers to the total number of visitors your website received. In this case, thatware.co received **36,776 unique visitors.**\n",
        "\n",
        "* **Total Sessions** refers to the total number of visits made to your site, including repeat visits by the same users. Here, you had **38,295 sessions.**\n",
        "\n",
        "* **Average Engagement Time per Session** shows how long, on average, visitors stayed engaged with your site. In your case, it's **46.11 seconds,** meaning most users were actively browsing your site for about 46 seconds per session.\n",
        "\n",
        "# 3. Mean Squared Error (MSE): 0.0\n",
        "\n",
        "*  **The Mean Squared Error (MSE)** tells you how far off the model's predictions were from the actual values. **An MSE of 0.0 means that your model perfectly predicted the actual traffic in the test data.** However, this is because we only used one data point, which isn’t realistic for most cases.\n",
        "\n",
        "# 4. R-squared (R²): Not well-defined (nan)\n",
        "\n",
        "*  **R-squared (R²)** measures how well the independent variables **(backlinks, internal links, and sessions)** explain the variation in the dependent variable (traffic). In your case, the value is **not well-defined** because you only used **one data point.** Normally, you need **more than one data point for R² to be meaningful.**\n",
        "\n",
        "*  In practical terms, this means that we cannot determine how much of the change in traffic is explained by backlinks and internal links because there is not enough data.\n",
        "\n",
        "\n",
        "#  5. Model Coefficients: [0. 0. 0.]\n",
        "\n",
        "**Model Intercept: 36,776.0**\n",
        "\n",
        "*  **Model Coefficients** tell you how much each **independent variable** **(backlinks, internal links, and sessions)** impacts the **dependent variable (traffic).** In this case, all the **coefficients are 0**, which means that the model did not find any meaningful relationship between the independent variables and the dependent variable (traffic). This is likely because you only used one data point, so the model didn’t have enough information to learn anything useful.\n",
        "\n",
        "*  **The Model Intercept** is the value of the dependent variable (traffic) when all the independent variables are zero. Here, it’s **36,776**, which simply reflects the total traffic value that was fed into the model.\n",
        "\n",
        "\n",
        "\n",
        "\n",
        "\n"
      ],
      "metadata": {
        "id": "u-79afmUJitu"
      }
    },
    {
      "cell_type": "markdown",
      "source": [
        "# What Does This Mean for You?\n",
        "**1. MSE of 0.0:**\n",
        "\n",
        "*  While the **perfect prediction (MSE of 0) may seem great**, it actually isn’t useful here because the model only had one data point to work with. In real-world applications, you'd use multiple data points **(e.g., data from several months or different pages on your website)** to create a meaningful model.\n",
        "\n",
        "**2. R-squared (R²):**\n",
        "\n",
        "*  The fact that **R²** **is not well-defined suggests that there wasn't enough data for the model to properly evaluate the relationships between backlinks, internal links, and traffic.** This means the model doesn’t provide any insights into how much backlinks or internal links impact traffic.\n",
        "\n",
        "**3. Coefficients of 0:**\n",
        "\n",
        "*  **The coefficients being 0 means that the model didn't learn anything meaningful from the data because of the lack of data points.** Normally, you'd expect positive or negative coefficients to show how backlinks, internal links, or other variables affect traffic, but in this case, the model can't tell you that.\n"
      ],
      "metadata": {
        "id": "7-u60f0VXg92"
      }
    },
    {
      "cell_type": "markdown",
      "source": [
        "# Next Steps for a Website Owner:\n",
        "\n",
        "To get more meaningful insights from the data and linear regression model, here’s what a website owner should do:\n",
        "\n",
        "**1. Collect More Data:**\n",
        "\n",
        "*  **Gather data over time:** Collect traffic data, backlink data, and engagement metrics over multiple time periods (e.g., months). The more data points you have, the better your model can learn.\n",
        "*  **Use multiple pages:** If possible, collect data for multiple pages of your website, not just one page, so the model has more information to learn from.\n",
        "\n",
        "\n",
        "**2. Use Relevant Metrics:**\n",
        "\n",
        "*  Try to combine metrics that are directly related to your goal. For example, **if you want to predict traffic, use backlinks, sessions, bounce rate, and content length as independent variables.** Make sure these metrics are directly related to your goal.\n",
        "\n",
        "**3. Focus on SEO Improvements:**\n",
        "\n",
        "*  **Backlinks:** Since backlinks are an important factor for SEO, focus on increasing high-quality backlinks. Reach out to other websites and promote your content to earn more backlinks.\n",
        "\n",
        "*  **Page Load Time:** Ensure that your website loads quickly. Google considers page speed a ranking factor, and faster pages tend to have lower bounce rates.\n",
        "\n",
        "*  **Content:** Make sure your content is in-depth and relevant. Longer, informative content tends to rank better and attract more traffic.\n",
        "\n",
        "**Improve User Engagement:**\n",
        "\n",
        "*  The average engagement time per session is an important metric. If visitors are staying on your site for only **46 seconds,** consider ways to increase engagement, like adding more compelling content, videos, or better navigation.\n",
        "\n"
      ],
      "metadata": {
        "id": "lfMP0v9mYT8C"
      }
    }
  ]
}